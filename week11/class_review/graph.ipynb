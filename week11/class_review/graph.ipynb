{
 "cells": [
  {
   "cell_type": "markdown",
   "id": "5cfc46e6",
   "metadata": {},
   "source": [
    "# 그래프(Graph)"
   ]
  },
  {
   "cell_type": "markdown",
   "id": "cd7ab3e0",
   "metadata": {},
   "source": [
    "---\n",
    "## 그래프 개념\n",
    "\n",
    "### 그래프란?\n",
    "연결되어 있는 객체들 간의 관계를 정의\n",
    "### 그래프 정의\n",
    "G 는 (V, E)로 표시\n",
    "\n",
    "정점(vertices) or 노드(Nodes)\n",
    "간선(Edge) or 링크(link)\n",
    "\n",
    "### 그래프 종류\n",
    "무방향 그래프, 방향 그래프, 가중치 그래프, 네트워크, 부분 그래프\n",
    "\n",
    "### 그래프 용어\n",
    "- 인접 정점: 간선에 의해 직접 연결된 정점\n",
    "- 차수(degree): \n",
    "    - 정점에 연결된 간선의 수\n",
    "    - 무방향 그래프: 차수의 합은 간선 수의 2배 : 각 정점의 차수의 합 = 간선 수 2배\n",
    "    - 방향 그래프:\n",
    "        - 진입 차수: 해당 정점으로 들어오는 간선 수\n",
    "        - 진출 차수: 해당 정점에서 나가는 간선 수\n",
    "        - 모든 진입(진출) 차수의 합은 간선의 수\n",
    "\n",
    "- 경로(path)\n",
    "    - 기본 정의\n",
    "        - 간선을 따라 갈 수 있는 길\n",
    "        - 정점과 간선들이 연결되어서 출발점에서 도착점까지 도달할 수 있는 경우를 경로(Path) 라고 부릅니다.\n",
    "    \n",
    "    -  무방향 그래프에서의 경로\n",
    "        - 출발 정점 s → 도착 정점 e\n",
    "        - 경로의 형태:\n",
    "            - s, v1, v2, ..., vk, e\n",
    "\n",
    "        - 조건:\n",
    "            - 각 인접한 두 정점 (s, v1), (v1, v2), ..., (vk, e) 가 반드시 간선으로 연결되어 있어야 함\n",
    "            - 즉, 두 정점 사이의 순서는 중요하지 않음 (방향 없음)\n",
    "\n",
    "    - 방향 그래프에서의 경로\n",
    "        - 출발 정점 s → 도착 정점 e\n",
    "\n",
    "        - 경로의 형태:\n",
    "            - s, v1, v2, ..., vk, e\n",
    "\n",
    "        - 조건:\n",
    "            - 각 인접한 두 정점 <s, v1>, <v1, v2>, ..., <vk, e> 가 반드시 방향 간선으로 연결되어야 함\n",
    "            - 즉, 방향이 지정된 경우 방향도 맞아야 함\n",
    "\n",
    "    - 경로의 길이 (Length)\n",
    "        - 경로를 구성하는데 사용된 간선의 수\n",
    "\n",
    "        - 예: A-B-C-D 라면 경로의 길이 = 3 (간선 3개 사용)\n",
    "\n",
    "- 단순 경로(simple path)\n",
    "    - 경로 중에서 반복되는 간선이 없는 경로\n",
    "        - B -> A -> C -> D\n",
    "\n",
    "- 사이클(cycle)\n",
    "    - 시작 정점과 종료 정점이 동일\n",
    "        - B -> A -> C -> B\n",
    "\n",
    "- 연결 그래프\n",
    "    - 모든 정점들 사이에 경로가 존재하는 그래프\n",
    "- 트리\n",
    "    - 사이클을 가지지 않는 연결 그래프\n",
    "- 완전 그래프\n",
    "    - 모든 정점 간에 간선이 존재하는 그래프\n",
    "    - n개의 정점을 가진 무방향 완전 그래프의 간선의 수 = n*(n-1)/2\n",
    "        - n=4, 간선의 수 = (4*3)/2 = 6\n",
    "\n",
    "\n",
    "\n"
   ]
  },
  {
   "cell_type": "markdown",
   "id": "35d3f6a6",
   "metadata": {},
   "source": [
    "---\n",
    "## 그래프의 추상 자료형"
   ]
  },
  {
   "cell_type": "markdown",
   "id": "73339385",
   "metadata": {},
   "source": [
    "데이터: 정점과 간선의 집합\n",
    "연산\n",
    "- isEmpty(): 그래프가 공백인가?\n",
    "- countVertex(): 정점의 수\n",
    "- countEdge(): 간선의 수\n",
    "- getEdge(u, v): 정점 u에서 정점 v로 연결된 간선을 반환\n",
    "- degree(u, v): 정점 v의 차수를 반환\n",
    "- adjacent(v): 정점 v에 인접한 모든 정점의 집합 반환\n",
    "- insertVertex(v): 그래프에 정점 v 삽입\n",
    "- insertEdge(u, v): 그래프에 간선 (u, v) 삽입\n",
    "- deleteVertex(v): 정점 삭제\n",
    "- deleteEdge(u, v): 간선 삭제"
   ]
  },
  {
   "cell_type": "markdown",
   "id": "2d708545",
   "metadata": {},
   "source": [
    "---\n",
    "## 그래프 탐색"
   ]
  },
  {
   "cell_type": "markdown",
   "id": "ec026c06",
   "metadata": {},
   "source": [
    "### DFS, BFS"
   ]
  },
  {
   "cell_type": "code",
   "execution_count": null,
   "id": "fb05214a",
   "metadata": {},
   "outputs": [],
   "source": [
    "#DFS 깊이우선탐색 알고리즘\n",
    "#한쪽으로 끝까지 가다가 더 이상 갈 수 없으면 가장 가까운 갈림길로 돌아와서 다른 방향으로 다시 탐색\n",
    "def dfs(graph, start, visited = set()):\n",
    "    if start not in visited:\n",
    "        visited.add(start) \n",
    "        print(start, end=' ')\n",
    "        nbr = graph[start] - visited\n",
    "        for v in nbr:\n",
    "            dfs(graph, v, visited) "
   ]
  },
  {
   "cell_type": "code",
   "execution_count": null,
   "id": "57427036",
   "metadata": {},
   "outputs": [],
   "source": [
    "#BFS 너비우선탐색 알고리즘\n",
    "import Collections\n",
    "\n",
    "def bfs(graph, start):\n",
    "    visited = set([start])\n",
    "    queue = Collections.deque([start])\n",
    "    while queue:\n",
    "        vertex = quque.popleft()\n",
    "        print(vertex, end = ' ')\n",
    "        nbr = graph[start]-visited\n",
    "        for v in nbr:\n",
    "            visited.add(v)\n",
    "            queue.append(v)"
   ]
  },
  {
   "cell_type": "markdown",
   "id": "2f5b9714",
   "metadata": {},
   "source": [
    "### DFS 구현"
   ]
  },
  {
   "cell_type": "code",
   "execution_count": 2,
   "id": "ed50119e",
   "metadata": {},
   "outputs": [
    {
     "name": "stdout",
     "output_type": "stream",
     "text": [
      "G1무방향 그래프\n",
      "0 0 1 1 \n",
      "0 0 1 0 \n",
      "1 1 0 1 \n",
      "1 0 1 0 \n",
      "방문 순서 -->  A C B D "
     ]
    }
   ],
   "source": [
    "class Graph():\n",
    "    def __init__(self, size):\n",
    "        self.SIZE = size\n",
    "        self.graph=[[0 for _ in range(size)] for _ in range(size)]\n",
    "\n",
    "\n",
    "G1 = None\n",
    "stack = []\n",
    "visitedAry = [] #방문한 정점\n",
    "\n",
    "G1 = Graph(4)\n",
    "G1.graph[0][2] = 1; G1.graph[0][3] = 1\n",
    "G1.graph[1][2] = 1\n",
    "G1.graph[2][0] = 1; G1.graph[2][1] = 1; G1.graph[2][3]=1\n",
    "G1.graph[3][0]=1; G1.graph[3][2]=1\n",
    "\n",
    "print(\"G1무방향 그래프\")\n",
    "for row in range(4):\n",
    "    for col in range(4):\n",
    "        print(G1.graph[row][col], end = ' ')\n",
    "    print()\n",
    "\n",
    "current = 0\n",
    "stack.append(current)\n",
    "visitedAry.append(current)\n",
    "\n",
    "while(len(stack)!=0):\n",
    "    next = None\n",
    "    for vertex in range(4):\n",
    "        if G1.graph[current][vertex]==1:\n",
    "            if vertex in visitedAry: #방문한 적이 있는 정점이면 탈락\n",
    "                pass\n",
    "            else:\n",
    "                next = vertex\n",
    "                break\n",
    "        \n",
    "    if next != None:\n",
    "        current = next\n",
    "        stack.append(current)\n",
    "        visitedAry.append(current)\n",
    "    else:\n",
    "        current = stack.pop()\n",
    "\n",
    "print(\"방문 순서 --> \", end = ' ')\n",
    "for i in visitedAry:\n",
    "    print(chr(ord('A')+i), end = ' ')"
   ]
  }
 ],
 "metadata": {
  "kernelspec": {
   "display_name": "base",
   "language": "python",
   "name": "python3"
  },
  "language_info": {
   "codemirror_mode": {
    "name": "ipython",
    "version": 3
   },
   "file_extension": ".py",
   "mimetype": "text/x-python",
   "name": "python",
   "nbconvert_exporter": "python",
   "pygments_lexer": "ipython3",
   "version": "3.11.7"
  }
 },
 "nbformat": 4,
 "nbformat_minor": 5
}
