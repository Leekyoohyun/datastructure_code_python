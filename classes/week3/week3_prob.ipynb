{
 "cells": [
  {
   "cell_type": "markdown",
   "metadata": {},
   "source": [
    "## 실습 "
   ]
  },
  {
   "cell_type": "code",
   "execution_count": null,
   "metadata": {
    "vscode": {
     "languageId": "plaintext"
    }
   },
   "outputs": [],
   "source": [
    "def reverse_list(lst):\n",
    "    n = len(lst)\n",
    "    for i in range(n // 2):\n",
    "        lst[i], lst[n - 1 - i] = lst[n - 1 - i], lst[i]\n",
    "    return lst\n",
    "\n",
    "example = [1, 2, 3, 4, 5]\n",
    "print(reverse_list(example))  # 출력: [5, 4, 3, 2, 1]\n"
   ]
  }
 ],
 "metadata": {
  "language_info": {
   "name": "python"
  }
 },
 "nbformat": 4,
 "nbformat_minor": 2
}
