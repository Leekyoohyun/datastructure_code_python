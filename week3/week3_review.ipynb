{
 "cells": [
  {
   "cell_type": "code",
   "execution_count": null,
   "id": "fa230ec3",
   "metadata": {},
   "outputs": [
    {
     "name": "stdout",
     "output_type": "stream",
     "text": [
      "['다현', '정현', '쯔위', '사나', '지효']\n",
      "['다현', '정현', '쯔위', '사나', '지효', '모모']\n"
     ]
    }
   ],
   "source": [
    "#선형리스트, 데이터삽입\n",
    "#끝에 삽입\n",
    "katok = ['다현','정현', '쯔위', '사나','지효']\n",
    "print(katok)\n",
    "\n",
    "katok.append(None)\n",
    "katok[len(katok)-1] = \"모모\"\n",
    "print(katok)"
   ]
  },
  {
   "cell_type": "code",
   "execution_count": 5,
   "id": "11bbdfbf",
   "metadata": {},
   "outputs": [
    {
     "name": "stdout",
     "output_type": "stream",
     "text": [
      "['다현', '정현', '쯔위', '사나', '지효', '모모']\n",
      "['다현', '정현', '쯔위', '사나', '지효', None, '모모']\n",
      "['다현', '정현', '쯔위', '사나', None, '지효', '모모']\n",
      "['다현', '정현', '쯔위', None, '사나', '지효', '모모']\n",
      "['다현', '정현', None, '쯔위', '사나', '지효', '모모']\n",
      "['다현', '정현', '추가', '쯔위', '사나', '지효', '모모']\n"
     ]
    }
   ],
   "source": [
    "#중간에 삽입\n",
    "katok=['다현', '정현', '쯔위', '사나', '지효', '모모']\n",
    "print(katok)\n",
    "\n",
    "def insert_data(position, name):\n",
    "    katok.append(None)\n",
    "    for i in range(len(katok)-1, position, -1):\n",
    "        katok[i] = katok[i-1]\n",
    "        katok[i-1] = None\n",
    "        print(katok)\n",
    "    katok[position] = name\n",
    "\n",
    "insert_data(2, '추가') \n",
    "print(katok)"
   ]
  },
  {
   "cell_type": "code",
   "execution_count": 9,
   "id": "cb31d04e",
   "metadata": {},
   "outputs": [
    {
     "name": "stdout",
     "output_type": "stream",
     "text": [
      "['다현']\n",
      "['다현', '정현']\n",
      "['다현', '정현', '추가']\n"
     ]
    }
   ],
   "source": [
    "# 배열로 선형 리스트 생성하기\n",
    "katok = []\n",
    "\n",
    "katok.append(None)\n",
    "rLen = len(katok)\n",
    "katok[rLen-1] = \"다현\"\n",
    "print(katok)\n",
    "\n",
    "katok.append(None)\n",
    "rLen = len(katok)\n",
    "katok[rLen-1] = \"정현\"\n",
    "print(katok)\n",
    "\n",
    "#일반화 시켜서 함수로 가면?\n",
    "\n",
    "def add_data(name):\n",
    "    katok.append(None)\n",
    "    rLen = len(katok)\n",
    "    katok[rLen-1] = name\n",
    "\n",
    "add_data(\"추가\")\n",
    "print(katok)\n"
   ]
  },
  {
   "cell_type": "code",
   "execution_count": 12,
   "id": "e7be5503",
   "metadata": {},
   "outputs": [
    {
     "name": "stdout",
     "output_type": "stream",
     "text": [
      "['다현', '정현', '쯔위', '사나', '지효', '모모']\n",
      "['다현', '정현', '사나', '지효', '모모']\n",
      "범위 벗어남\n",
      "['다현', '정현', '사나', '지효', '모모']\n"
     ]
    }
   ],
   "source": [
    "#데이터 삭제\n",
    "def delete_data(position):\n",
    "    if position<0 or position > len(katok):\n",
    "        print(\"범위 벗어남\")\n",
    "        return\n",
    "\n",
    "    katok[position] = None\n",
    "    for i in range(position, len(katok)-1):\n",
    "        katok[i] = katok[i+1]\n",
    "        katok[i+1] = None\n",
    "    del(katok[len(katok)-1])\n",
    "\n",
    "\n",
    "katok=['다현', '정현', '쯔위', '사나', '지효', '모모']\n",
    "\n",
    "print(katok)\n",
    "\n",
    "delete_data(2)\n",
    "print(katok)\n",
    "delete_data(15)\n",
    "print(katok)\n"
   ]
  },
  {
   "cell_type": "code",
   "execution_count": null,
   "id": "b00ce8bc",
   "metadata": {},
   "outputs": [
    {
     "name": "stdout",
     "output_type": "stream",
     "text": [
      "['다현', '쯔위', '사나', '지효']\n"
     ]
    }
   ],
   "source": [
    "katok = ['다현', '정연', '쯔위', '사나','지효']\n",
    "\n",
    "# 함수 전체\n",
    "def add_data(friend):\n",
    "    katok.append(None)\n",
    "    kLen = len(katok)\n",
    "    katok[kLen-1] = friend\n",
    "\n",
    "def del_data(position):\n",
    "    if position<0 or position>len(katok):\n",
    "        print(\"범위 벗어남\")\n",
    "        return \n",
    "    \n",
    "    katok[position] = None\n",
    "    kLen = len(katok)\n",
    "    for i in range(position, kLen-1):\n",
    "        katok[i] = katok[i+1]\n",
    "        katok[i+1] = None\n",
    "    del(katok[kLen-1])\n",
    "\n",
    "\n",
    "\n",
    "del_data(1)\n",
    "print(katok)\n"
   ]
  },
  {
   "cell_type": "code",
   "execution_count": null,
   "id": "7f007d2d",
   "metadata": {},
   "outputs": [],
   "source": []
  }
 ],
 "metadata": {
  "kernelspec": {
   "display_name": "base",
   "language": "python",
   "name": "python3"
  },
  "language_info": {
   "codemirror_mode": {
    "name": "ipython",
    "version": 3
   },
   "file_extension": ".py",
   "mimetype": "text/x-python",
   "name": "python",
   "nbconvert_exporter": "python",
   "pygments_lexer": "ipython3",
   "version": "3.11.7"
  }
 },
 "nbformat": 4,
 "nbformat_minor": 5
}
