{
 "cells": [
  {
   "cell_type": "code",
   "execution_count": 5,
   "id": "35401c04",
   "metadata": {},
   "outputs": [
    {
     "name": "stdout",
     "output_type": "stream",
     "text": [
      "민성 -> 경승 -> "
     ]
    }
   ],
   "source": [
    "#연결리스트\n",
    "#데이터와 링크가 필요함\n",
    "\n",
    "class Node():\n",
    "    def __init__(self):\n",
    "        self.data = None\n",
    "        self.link = None\n",
    "\n",
    "node1 = Node()\n",
    "node1.data = \"민성\"\n",
    "\n",
    "node2 = Node()\n",
    "node2.data = '경승'\n",
    "node1.link = node2\n",
    "print(node1.data, end = ' -> ')\n",
    "print(node1.link.data, end = ' -> ')"
   ]
  },
  {
   "cell_type": "code",
   "execution_count": null,
   "id": "fef7e7fc",
   "metadata": {},
   "outputs": [
    {
     "name": "stdout",
     "output_type": "stream",
     "text": [
      "1번노드-2번노드-3번노드-"
     ]
    }
   ],
   "source": [
    "# 데이터랑 링크 만들어줘 -> \n",
    "class Node():\n",
    "    def __init__(self):\n",
    "        self.data = None\n",
    "        self.link = None\n",
    "\n",
    "node1 = Node()\n",
    "node1.data = \"1번노드\"\n",
    "\n",
    "node2 = Node()\n",
    "node2.data = \"2번노드\"\n",
    "node1.link = node2\n",
    "\n",
    "node3 = Node()\n",
    "node3.data = \"3번노드\"\n",
    "node2.link = node3\n",
    "\n",
    "print(node1.data, end = \"-\")\n",
    "print(node1.link.data, end = \"-\")\n",
    "print(node1.link.link.data, end = \"-\")\n",
    "\n",
    "\n"
   ]
  }
 ],
 "metadata": {
  "kernelspec": {
   "display_name": "base",
   "language": "python",
   "name": "python3"
  },
  "language_info": {
   "codemirror_mode": {
    "name": "ipython",
    "version": 3
   },
   "file_extension": ".py",
   "mimetype": "text/x-python",
   "name": "python",
   "nbconvert_exporter": "python",
   "pygments_lexer": "ipython3",
   "version": "3.11.7"
  }
 },
 "nbformat": 4,
 "nbformat_minor": 5
}
