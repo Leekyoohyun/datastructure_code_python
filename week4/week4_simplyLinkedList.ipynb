{
 "cells": [
  {
   "cell_type": "markdown",
   "metadata": {},
   "source": [
    "# 단순 연결리스트\n",
    "\n",
    "- 데이터 삭제/삽입 시 선형 List보다 성능 좋음\n",
    "\n",
    "- 데이터 찾을 때 성능이 안좋음"
   ]
  },
  {
   "cell_type": "markdown",
   "metadata": {},
   "source": [
    "---\n",
    "## 1. LinkedList 구현\n",
    "데이터와 링크 필요"
   ]
  },
  {
   "cell_type": "code",
   "execution_count": null,
   "metadata": {},
   "outputs": [],
   "source": [
    "class Node():\n",
    "    def __init__(self):\n",
    "        # Data & Link 만들어주기\n",
    "        self.data = None\n",
    "        self.link = None"
   ]
  },
  {
   "cell_type": "code",
   "execution_count": null,
   "metadata": {},
   "outputs": [],
   "source": [
    "# 노드 생성\n",
    "node1 = Node()\n",
    "node1.data = \"다현\"\n",
    "print(node1.data, end = ' -> ')"
   ]
  },
  {
   "cell_type": "code",
   "execution_count": null,
   "metadata": {},
   "outputs": [],
   "source": [
    "# 두번 째 노드 생성하고 연결해주기\n",
    "node2 = Node()\n",
    "node2.data = \"정연\"\n",
    "node1.link = node2\n",
    "\n",
    "print(node1.data, end = ' -> ')\n",
    "print(node1.link.data, end = ' -> ')"
   ]
  },
  {
   "cell_type": "markdown",
   "metadata": {},
   "source": [
    "---\n",
    "### LinkedList 데이터 5개 생성"
   ]
  },
  {
   "cell_type": "code",
   "execution_count": null,
   "metadata": {},
   "outputs": [],
   "source": [
    "# Code04-01.py\n",
    "class Node():\n",
    "    def __init__(self):\n",
    "        # Data & Link 만들어주기\n",
    "        self.data = None\n",
    "        self.link = None\n",
    "\n",
    "node1 = Node()\n",
    "node1.data = \"다현\"\n",
    "\n",
    "node2 = Node()\n",
    "node2.data = \"정연\"\n",
    "node1.link = node2\n",
    "\n",
    "node3 = Node()\n",
    "node3.data = \"쯔위\"\n",
    "node2.link = node3\n",
    "\n",
    "node4 = Node()\n",
    "node4.data = \"사나\"\n",
    "node3.link = node4\n",
    "\n",
    "node5 = Node()\n",
    "node5.data = \"정연\"\n",
    "node4.link = node5"
   ]
  },
  {
   "cell_type": "markdown",
   "metadata": {},
   "source": [
    "---\n",
    "## 2. 출력"
   ]
  },
  {
   "cell_type": "markdown",
   "metadata": {},
   "source": [
    "#### 출력 예시 1"
   ]
  },
  {
   "cell_type": "code",
   "execution_count": null,
   "metadata": {},
   "outputs": [],
   "source": [
    "print(node1.data, end = ' -> ')\n",
    "print(node1.link.data, end = ' -> ')\n",
    "print(node1.link.link.data, end = ' -> ')\n",
    "print(node1.link.link.link.data, end = ' -> ')\n",
    "print(node1.link.link.link.link.data, end = ' -> ')"
   ]
  },
  {
   "cell_type": "markdown",
   "metadata": {},
   "source": [
    "#### 출력 예시 2 : 반복문"
   ]
  },
  {
   "cell_type": "code",
   "execution_count": null,
   "metadata": {},
   "outputs": [],
   "source": [
    "current = node1\n",
    "print(current.data, end = ' -> ')\n",
    "while current.link != None:\n",
    "    current = current.link\n",
    "    print(current.data, end = ' -> ')\n",
    "\n",
    "## 그냥 정의해 놓자 ##\n",
    "\n",
    "def print_linkedlist():\n",
    "    current = node1\n",
    "    print(current.data, end = ' -> ')\n",
    "    while current.link != None:\n",
    "        current = current.link\n",
    "        print(current.data, end = ' -> ')   "
   ]
  },
  {
   "cell_type": "markdown",
   "metadata": {},
   "source": [
    "---\n",
    "## 3. 노드 삽입/삭제"
   ]
  },
  {
   "cell_type": "markdown",
   "metadata": {},
   "source": [
    "### (1) 중간에 데이터 삽입\n",
    "\n",
    "다현 -> 정연 -> 쯔위 -> 사나 -> 정연 -> \n",
    "\n",
    "새로운 노드 생성 -> 새로운 노드의 link에 정연의 link(쯔위 노드)를 복사 -> 정연 노드의 link에 새로운 노드 지정"
   ]
  },
  {
   "cell_type": "code",
   "execution_count": null,
   "metadata": {},
   "outputs": [],
   "source": [
    "newNode = Node()\n",
    "newNode.data = '미나'\n",
    "#정연과 쯔위 사이에 미나 넣고 싶어\n",
    "newNode.link = node2.link\n",
    "node2.link = newNode\n",
    "\n",
    "print_linkedlist()"
   ]
  },
  {
   "cell_type": "markdown",
   "metadata": {},
   "source": [
    "### (2) 중간 데이터 삭제\n",
    "다현 -> 정연 -> 미나 -> 쯔위 -> 사나 -> 정연 -> \n",
    "쯔위를 삭제하고 싶다면\n",
    "\n",
    "미나 노드의 link가 쯔위노드의 link(사나 노드)를 가리키게 하고 -> 그냥 del(쯔위 노드)"
   ]
  },
  {
   "cell_type": "code",
   "execution_count": null,
   "metadata": {},
   "outputs": [],
   "source": [
    "newNode.link = node3.link\n",
    "del(node3)\n",
    "\n",
    "print_linkedlist()"
   ]
  },
  {
   "cell_type": "markdown",
   "metadata": {},
   "source": [
    "## 4. LinkedList의 일반적인 형태\n",
    "- head: 첫 번째 노드\n",
    "\n",
    "- pre: current 전의 노드\n",
    "\n",
    "- current: 현재 처리 중인 노드"
   ]
  },
  {
   "cell_type": "markdown",
   "metadata": {},
   "source": [
    "### 배열에 저장된 데이터 입력과정\n",
    "#### 첫 번째 데이터 입력\n",
    "\n",
    "1. ```node = Node()```\n",
    "2. ```node.data = dataArray[0]```\n",
    "3. ```head = None```\n",
    "4. ```memory.append(node)```\n",
    "\n",
    "#### 두 번째 이후 데이터 입력\n",
    "\n",
    "1. ```pre = node```\n",
    "2. ```node = Node()```\n",
    "3. ```node.data = data```\n",
    "4. ```preNode.link = node```\n",
    "5. ```memory.append(node)```"
   ]
  },
  {
   "cell_type": "markdown",
   "metadata": {},
   "source": [
    "## LinkedList 생성함수 완성"
   ]
  },
  {
   "cell_type": "code",
   "execution_count": 9,
   "metadata": {},
   "outputs": [
    {
     "name": "stdout",
     "output_type": "stream",
     "text": [
      "다현 -> 정연 -> 쯔위 -> 사나 -> 지효 -> \n"
     ]
    }
   ],
   "source": [
    "# Code04-05.py\n",
    "class Node():\n",
    "    def __init__(self):\n",
    "        self.data = None\n",
    "        self.link = None\n",
    "\n",
    "def printNodes(start):\n",
    "    current = start\n",
    "    if current == None:\n",
    "        return\n",
    "    print(current.data, end = ' -> ')\n",
    "    while current.link != None:\n",
    "        current = current.link\n",
    "        print(current.data, end = ' -> ')\n",
    "    print()\n",
    "\n",
    "# 전역 변수 선언\n",
    "memory = []\n",
    "head, current, pre = None, None, None\n",
    "dataArray = [\"다현\", \"정연\", \"쯔위\", \"사나\", \"지효\"]\n",
    "\n",
    "# 메인 코드\n",
    "if __name__ == \"__main__\":\n",
    "\n",
    "    node = Node() #첫 번째 노드\n",
    "    node.data = dataArray[0]\n",
    "    head = node\n",
    "    memory.append(node)\n",
    "\n",
    "    for data in dataArray[1:]: #두 번째 노드 이후\n",
    "        pre = node\n",
    "        node = Node()\n",
    "        node.data = data\n",
    "        pre.link = node\n",
    "        memory.append(node)\n",
    "\n",
    "    printNodes(head)\n"
   ]
  },
  {
   "cell_type": "markdown",
   "metadata": {},
   "source": [
    "### 노드 삽입: 첫번째 노드 삽입\n",
    "\n",
    "#### 화사 노드 맨 앞에다가 삽입"
   ]
  },
  {
   "cell_type": "code",
   "execution_count": 10,
   "metadata": {},
   "outputs": [],
   "source": [
    "node = Node()\n",
    "node.data = '화사'\n",
    "node.link = head\n",
    "head = node"
   ]
  },
  {
   "cell_type": "markdown",
   "metadata": {},
   "source": [
    "#### 중간 노드 삽입 (사나 앞에 솔라노드 삽입)"
   ]
  },
  {
   "cell_type": "code",
   "execution_count": 15,
   "metadata": {},
   "outputs": [
    {
     "name": "stdout",
     "output_type": "stream",
     "text": [
      "화사 -> 다현 -> 정연 -> 쯔위 -> 솔라 -> 사나 -> 지효 -> \n"
     ]
    }
   ],
   "source": [
    "current = head\n",
    "while current.link != None:\n",
    "    pre = current\n",
    "    current = current.link\n",
    "    if current.data == '사나':\n",
    "        node = Node()\n",
    "        node.data = '솔라'  \n",
    "        node.link = pre.link\n",
    "        pre.link = node\n",
    "\n",
    "printNodes(head)"
   ]
  },
  {
   "cell_type": "markdown",
   "metadata": {},
   "source": [
    "#### 마지막 노드 삽입"
   ]
  },
  {
   "cell_type": "code",
   "execution_count": null,
   "metadata": {},
   "outputs": [],
   "source": [
    "# 밑에 전체 삽입코드 확인"
   ]
  },
  {
   "cell_type": "markdown",
   "metadata": {},
   "source": [
    "## 노드 삽입 함수"
   ]
  },
  {
   "cell_type": "code",
   "execution_count": 23,
   "metadata": {},
   "outputs": [
    {
     "name": "stdout",
     "output_type": "stream",
     "text": [
      "다현 -> 정연 -> 쯔위 -> 사나 -> 지효 -> \n",
      "화사 -> 다현 -> 정연 -> 쯔위 -> 사나 -> 지효 -> \n",
      "화사 -> 다현 -> 정연 -> 쯔위 -> 솔라 -> 사나 -> 지효 -> \n",
      "화사 -> 다현 -> 정연 -> 쯔위 -> 솔라 -> 사나 -> 지효 -> 문별 -> \n"
     ]
    }
   ],
   "source": [
    "# 클래스와 함수 선언 부분\n",
    "class Node():\n",
    "    def __init__(self):\n",
    "        self.data = None\n",
    "        self.link = None\n",
    "    \n",
    "def printNodes(start):\n",
    "    current = start\n",
    "    if current == None:\n",
    "        return\n",
    "    print(current.data, end = ' -> ')\n",
    "    while current.link != None:\n",
    "        current = current.link\n",
    "        print(current.data, end = ' -> ')\n",
    "    print()\n",
    "\n",
    "def insertNode(findData, insertData):\n",
    "    global memory, head, current, pre\n",
    "\n",
    "    if head.data == findData: #첫번째 노드 삽입\n",
    "        node = Node()\n",
    "        node.data = insertData\n",
    "        node.link = head\n",
    "        head = node\n",
    "        return\n",
    "    \n",
    "    current = head\n",
    "    while current.link != None: #중간에 노드 삽입\n",
    "        pre = current\n",
    "        current = current.link\n",
    "        if current.data == findData:\n",
    "            node = Node()\n",
    "            node.data = insertData\n",
    "            node.link = pre.link\n",
    "            pre.link = node\n",
    "            return\n",
    "    \n",
    "    node = Node()   #마지막에 노드 삽입\n",
    "    node.data = insertData\n",
    "    current.link = node\n",
    "\n",
    "\n",
    "# 전역 변수 선언\n",
    "memory = []\n",
    "head, current, pre = None, None, None\n",
    "dataArray = [\"다현\", \"정연\", \"쯔위\", \"사나\", \"지효\"]\n",
    "\n",
    "# 메인 코드\n",
    "if __name__ == \"__main__\":\n",
    "\n",
    "    node = Node() #첫 번째 노드\n",
    "    node.data = dataArray[0]\n",
    "    head = node\n",
    "    memory.append(node)\n",
    "\n",
    "    for data in dataArray[1:]: #두 번째 노드 이후\n",
    "        pre = node\n",
    "        node = Node()\n",
    "        node.data = data\n",
    "        pre.link = node\n",
    "        memory.append(node)\n",
    "\n",
    "    printNodes(head)\n",
    "\n",
    "    insertNode(\"다현\", \"화사\")\n",
    "    printNodes(head)\n",
    "\n",
    "    insertNode(\"사나\", \"솔라\")\n",
    "    printNodes(head)\n",
    "\n",
    "    insertNode(\"재남\", \"문별\")\n",
    "    printNodes(head)\n"
   ]
  },
  {
   "cell_type": "markdown",
   "metadata": {},
   "source": [
    "## 노드 삭제\n",
    "\n",
    "- 첫 번째 노드삭제: \n",
    "    현재 노드(current)를 삭제할 노드인 head와 동일하게 만듬 -> 헤드를 다음 노드를 가리키게 함 -> current 제거<br>\n",
    "    ```current = head```<br>\n",
    "    ```head = head.link```<br>\n",
    "    ```del(current)```<br>\n",
    "\n",
    "- 첫 번째 외 노드삭제:\n",
    "    일단 찾아 current로 -> pre, current 설정하고 -> 링크 연결해주고 삭제해<br>\n",
    "    ```위랑 비슷할거야```\n",
    "    "
   ]
  },
  {
   "cell_type": "code",
   "execution_count": null,
   "metadata": {},
   "outputs": [],
   "source": [
    "# 클래스와 함수 선언 부분\n",
    "class Node():\n",
    "    def __init__(self):\n",
    "        self.data = None\n",
    "        self.link = None\n",
    "    \n",
    "def printNodes(start):\n",
    "    current = start\n",
    "    if current == None:\n",
    "        return\n",
    "    print(current.data, end = ' -> ')\n",
    "    while current.link != None:\n",
    "        current = current.link\n",
    "        print(current.data, end = ' -> ')\n",
    "    print()\n",
    "\n",
    "def deleteNode(deleteData):\n",
    "    global memory, head, current, pre\n",
    "\n",
    "    if head.data == deleteData: #삭제하고 싶은 노드가 head면\n",
    "        current = head\n",
    "        head = head.link\n",
    "        del(current)\n",
    "        return\n",
    "    \n",
    "    current = head\n",
    "    while current.link != None:\n",
    "        pre = current\n",
    "        current = current.link\n",
    "        if current.data == deleteData:\n",
    "            pre.link = current.link\n",
    "            del(current)\n",
    "            return\n",
    "\n",
    "# 전역 변수 선언\n",
    "memory = []\n",
    "head, current, pre = None, None, None\n",
    "dataArray = [\"다현\", \"정연\", \"쯔위\", \"사나\", \"지효\"]\n",
    "\n",
    "# 메인 코드\n",
    "if __name__ == \"__main__\":\n",
    "\n",
    "    node = Node() #첫 번째 노드\n",
    "    node.data = dataArray[0]\n",
    "    head = node\n",
    "    memory.append(node)\n",
    "\n",
    "    for data in dataArray[1:]: #두 번째 노드 이후\n",
    "        pre = node\n",
    "        node = Node()\n",
    "        node.data = data\n",
    "        pre.link = node\n",
    "        memory.append(node)\n",
    "\n",
    "    printNodes(head)"
   ]
  },
  {
   "cell_type": "markdown",
   "metadata": {},
   "source": [
    "## 노드 검색"
   ]
  },
  {
   "cell_type": "code",
   "execution_count": null,
   "metadata": {},
   "outputs": [],
   "source": []
  }
 ],
 "metadata": {
  "kernelspec": {
   "display_name": "base",
   "language": "python",
   "name": "python3"
  },
  "language_info": {
   "codemirror_mode": {
    "name": "ipython",
    "version": 3
   },
   "file_extension": ".py",
   "mimetype": "text/x-python",
   "name": "python",
   "nbconvert_exporter": "python",
   "pygments_lexer": "ipython3",
   "version": "3.11.7"
  }
 },
 "nbformat": 4,
 "nbformat_minor": 2
}
