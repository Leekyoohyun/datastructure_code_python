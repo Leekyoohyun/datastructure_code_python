{
 "cells": [
  {
   "cell_type": "code",
   "execution_count": null,
   "id": "2f3337c4",
   "metadata": {},
   "outputs": [],
   "source": [
    "class Node():\n",
    "    def __init__(self):\n",
    "        self.data = None\n",
    "        self.link = None\n",
    "\n"
   ]
  }
 ],
 "metadata": {
  "language_info": {
   "name": "python"
  }
 },
 "nbformat": 4,
 "nbformat_minor": 5
}
