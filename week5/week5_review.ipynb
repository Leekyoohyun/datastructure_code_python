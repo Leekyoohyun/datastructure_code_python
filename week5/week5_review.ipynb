{
 "cells": [
  {
   "cell_type": "code",
   "execution_count": 2,
   "id": "225335a2",
   "metadata": {},
   "outputs": [
    {
     "name": "stdout",
     "output_type": "stream",
     "text": [
      "---스택 상태 ----\n",
      "None\n",
      "None\n",
      "꿀물\n",
      "녹차\n",
      "커피\n"
     ]
    }
   ],
   "source": [
    "stack = [None, None, None, None, None]\n",
    "top = -1\n",
    "\n",
    "#push 구현\n",
    "#커피 녹차 꿀물 순으로 넣기\n",
    "\n",
    "top += 1\n",
    "stack[top] = '커피'\n",
    "\n",
    "top += 1\n",
    "stack[top] = '녹차'\n",
    "\n",
    "top += 1\n",
    "stack[top] = '꿀물'\n",
    "\n",
    "print(\"---스택 상태 ----\")\n",
    "for i in range(len(stack)-1, -1, -1):\n",
    "    print(stack[i])"
   ]
  },
  {
   "cell_type": "code",
   "execution_count": 3,
   "id": "1872f3f3",
   "metadata": {},
   "outputs": [
    {
     "name": "stdout",
     "output_type": "stream",
     "text": [
      "pop data:  꿀물\n",
      "pop data:  녹차\n",
      "pop data:  커피\n",
      "현재 스택\n",
      "None\n",
      "None\n",
      "None\n",
      "None\n",
      "None\n"
     ]
    }
   ],
   "source": [
    "#pop\n",
    "# top = 2 인 상태\n",
    "data = stack[top]\n",
    "stack[top] = None\n",
    "top -= 1\n",
    "print('pop data: ', data)\n",
    "\n",
    "data = stack[top]\n",
    "stack[top] = None\n",
    "top -= 1\n",
    "print('pop data: ', data)\n",
    "\n",
    "data = stack[top]\n",
    "stack[top] = None\n",
    "top -= 1\n",
    "print('pop data: ', data)\n",
    "\n",
    "print(\"현재 스택\")\n",
    "for i in range(len(stack)-1, -1, -1):\n",
    "    print(stack[i])"
   ]
  },
  {
   "cell_type": "code",
   "execution_count": null,
   "id": "9670de03",
   "metadata": {},
   "outputs": [],
   "source": [
    "#스택 생성하기\n",
    "SIZE = 5\n",
    "stack = [None for _ in range(SIZE)]\n",
    "top = -1\n",
    "\n",
    "#stack = [None, None, None, None, None]"
   ]
  },
  {
   "cell_type": "code",
   "execution_count": 4,
   "id": "069fc36e",
   "metadata": {},
   "outputs": [
    {
     "name": "stdout",
     "output_type": "stream",
     "text": [
      "스택 꽉찼니?  True\n"
     ]
    }
   ],
   "source": [
    "#isStackFull()\n",
    "\n",
    "#top 값이 len(stack)-1 이면 꽉찼네 더이상 못 넣잖아?\n",
    "def isStackFull():\n",
    "    global SIZE, stack, top\n",
    "    if(top>=SIZE-1):\n",
    "        return True\n",
    "    else:\n",
    "        return False\n",
    "\n",
    "SIZE = 5\n",
    "stack = [\"커피\", \"녹차\", \"꿀물\", \"콜라\", \"환타\"]\n",
    "top = 4\n",
    "\n",
    "print(\"스택 꽉찼니? \", isStackFull())"
   ]
  },
  {
   "cell_type": "code",
   "execution_count": 13,
   "id": "46d4dc40",
   "metadata": {},
   "outputs": [
    {
     "name": "stdout",
     "output_type": "stream",
     "text": [
      "['커피', None, None, None, None]\n",
      "['커피', '녹차', '꿀물', '콜라', None]\n",
      "['커피', '녹차', '꿀물', '콜라', '환타']\n",
      "스택이 꽉 찼습니다\n",
      "['커피', '녹차', '꿀물', '콜라', '환타']\n"
     ]
    }
   ],
   "source": [
    "# push 함수 구현\n",
    "def isStackFull():\n",
    "    global SIZE, top, stack\n",
    "    if (top>=SIZE-1):\n",
    "        return True\n",
    "    else:\n",
    "        return False\n",
    "\n",
    "def push(data):\n",
    "    global SIZE, top, stack\n",
    "    if(isStackFull()):\n",
    "        print(\"스택이 꽉 찼습니다\")\n",
    "        return\n",
    "    top += 1\n",
    "    stack[top] = data\n",
    "\n",
    "SIZE = 5\n",
    "stack = [None for _ in range(SIZE)]\n",
    "top = -1\n",
    "\n",
    "push(\"커피\")\n",
    "print(stack)\n",
    "\n",
    "push(\"녹차\")\n",
    "push(\"꿀물\")\n",
    "push(\"콜라\")\n",
    "print(stack)\n",
    "\n",
    "push(\"환타\")\n",
    "print(stack)\n",
    "\n",
    "push(\"사이다\")\n",
    "print(stack)"
   ]
  },
  {
   "cell_type": "code",
   "execution_count": 20,
   "id": "710c2960",
   "metadata": {},
   "outputs": [
    {
     "name": "stdout",
     "output_type": "stream",
     "text": [
      "[None, None, None, None, None]\n",
      "스택이 비었습니다\n",
      "pop data:  None\n",
      "['커피', None, None, None, None]\n",
      "pop data:  커피\n",
      "[None, None, None, None, None]\n"
     ]
    }
   ],
   "source": [
    "#비었는지 확인 pop할때 사용\n",
    "def isStackEmpty():\n",
    "    global top, stack, SIZE\n",
    "    if(top == -1):\n",
    "        return True\n",
    "    else:\n",
    "        return False\n",
    "\n",
    "#pop data\n",
    "def pop():\n",
    "    global SIZE, stack, top\n",
    "    if(isStackEmpty()):\n",
    "        print(\"스택이 비었습니다\")\n",
    "        return None\n",
    "    data = stack[top]\n",
    "    stack[top] = None\n",
    "    top -= 1\n",
    "    return data\n",
    "\n",
    "SIZE = 5\n",
    "stack = [None for _ in range(SIZE)]\n",
    "top = -1\n",
    "\n",
    "print(stack)\n",
    "retData = pop()\n",
    "print(\"pop data: \", retData)\n",
    "\n",
    "push(\"커피\")\n",
    "print(stack)\n",
    "retData = pop()\n",
    "print(\"pop data: \", retData)\n",
    "print(stack)"
   ]
  },
  {
   "cell_type": "code",
   "execution_count": 22,
   "id": "43910c24",
   "metadata": {},
   "outputs": [
    {
     "name": "stdout",
     "output_type": "stream",
     "text": [
      "['커피', '꿀물', '커피', '꿀물', None]\n",
      "peek data:  꿀물\n"
     ]
    }
   ],
   "source": [
    "#peek\n",
    "def peek():\n",
    "    global SIZE, stack, top\n",
    "    if(isStackEmpty()):\n",
    "        print(\"스택이 비었습니다\")\n",
    "        return None\n",
    "    return stack[top]\n",
    "\n",
    "push(\"커피\")\n",
    "push(\"꿀물\")\n",
    "print(stack)\n",
    "\n",
    "peekData = peek()\n",
    "print(\"peek data: \", peekData)"
   ]
  },
  {
   "cell_type": "code",
   "execution_count": null,
   "id": "25cb6101",
   "metadata": {},
   "outputs": [
    {
     "name": "stdout",
     "output_type": "stream",
     "text": [
      "프로그램 종료\n"
     ]
    }
   ],
   "source": [
    "#stack full code\n",
    "def isStackFull():\n",
    "    global SIZE, stack, top\n",
    "    if(top>=SIZE-1):\n",
    "        return True\n",
    "    else:\n",
    "        return False\n",
    "\n",
    "def isStackEmpty():\n",
    "    global SIZE, top, stack\n",
    "    if(top == -1):\n",
    "        return True\n",
    "    else:\n",
    "        return False\n",
    "\n",
    "def push(data):\n",
    "    global SIZE, top, stack\n",
    "    if(isStackFull()):\n",
    "        print(\"스택이 꽉 찼습니다\")\n",
    "        return\n",
    "    top += 1\n",
    "    stack[top] = data\n",
    "\n",
    "def pop():\n",
    "    global SIZE, top, stack\n",
    "    if(isStackEmpty()):\n",
    "        print(\"스택이 비었습니다\")\n",
    "        return None\n",
    "    popData = stack[top]\n",
    "    stack[top] = None\n",
    "    top -= 1\n",
    "    return popData\n",
    "\n",
    "def peek():\n",
    "    global SIZE, top, stack\n",
    "    if(isStackEmpty()):\n",
    "        print(\"스택이 비었습니다\")\n",
    "        return None\n",
    "    return stack[top]\n",
    "\n",
    "SIZE = int(input(\"스택 크기를 입력하세요: \"))\n",
    "stack = [None for _ in range(SIZE)]\n",
    "top = -1\n",
    "\n",
    "#메인 코드\n",
    "if __name__ == \"__main__\":\n",
    "    select = input(\"삽입I, 추출E, 확인V, 종료X\")\n",
    "\n",
    "    while(select != 'X' and select != 'x'):\n",
    "        if select == 'I' or select == 'i':\n",
    "            pushData = (input(\"push할 데이터\"))\n",
    "            push(pushData)\n",
    "            print(\"스택 : \", stack)\n",
    "        elif select == 'E' or select == 'e':\n",
    "            popData = pop()\n",
    "            print(\"pop data: \", popData)\n",
    "            print(\"스택 : \", stack)\n",
    "        elif select == 'V' or select == 'v':\n",
    "            peekData = peek()\n",
    "            print(\"peek data: \", peekData)\n",
    "            print(\"스택 : \", stack)\n",
    "        else:\n",
    "            print(\"주어진 문자만 입력해라\")\n",
    "        \n",
    "        select = input(\"삽입I, 추출E, 확인V, 종료X\")\n",
    "\n",
    "    print(\"프로그램 종료\")  # X or x 입력\n",
    "\n",
    "            \n",
    "\n"
   ]
  },
  {
   "cell_type": "code",
   "execution_count": 33,
   "id": "3da27dbd",
   "metadata": {},
   "outputs": [
    {
     "name": "stdout",
     "output_type": "stream",
     "text": [
      "['사과', '오렌지', '체리']\n",
      "체리\n",
      "['사과', '오렌지', '체리']\n",
      "체리\n",
      "['사과', '오렌지']\n",
      "오렌지\n",
      "사과\n",
      "[]\n",
      "None\n"
     ]
    }
   ],
   "source": [
    "#리스트로 구현한 스택\n",
    "def push(data):\n",
    "    stack.append(data)\n",
    "\n",
    "def peek():\n",
    "    if len(stack) != 0:\n",
    "        return stack[-1] #끝 값\n",
    "\n",
    "def pop():\n",
    "    if len(stack) != 0:\n",
    "        popData = stack.pop(-1)#이 pop은 리스트 함수네?\n",
    "        return popData\n",
    "\n",
    "stack = [] \n",
    "push('사과')\n",
    "push('오렌지')\n",
    "push('체리')\n",
    "print(stack)\n",
    "\n",
    "print(peek())\n",
    "print(stack)\n",
    "print(pop())\n",
    "print(stack)\n",
    "print(pop())\n",
    "print(pop())\n",
    "print(stack)\n",
    "print(pop())"
   ]
  },
  {
   "cell_type": "code",
   "execution_count": 34,
   "id": "1491d533",
   "metadata": {},
   "outputs": [
    {
     "name": "stdout",
     "output_type": "stream",
     "text": [
      "(A+B) --> True\n",
      "스택이 비었습니다\n",
      ")A+B( --> False\n",
      "((A+B)-C --> False\n",
      "(A+B] --> False\n",
      "(<A+{B-C}/[C*D]>) --> True\n"
     ]
    }
   ],
   "source": [
    "#괄호 검사\n",
    "#스택의 응용\n",
    "def isStackFull():\n",
    "    global SIZE, stack, top\n",
    "    if(top >= SIZE-1):\n",
    "        return True\n",
    "    else:\n",
    "        return False\n",
    "\n",
    "def isStackEmpty():\n",
    "    global SIZE, stack, top\n",
    "    if(top == -1):\n",
    "        return True\n",
    "    else:\n",
    "        return False\n",
    "\n",
    "def push(data):\n",
    "    global SIZE, stack, top\n",
    "    if(isStackFull()):\n",
    "        print(\"스택이 꽉 찼음\")\n",
    "        return\n",
    "    top += 1\n",
    "    stack[top] = data\n",
    "\n",
    "def pop():\n",
    "    global SIZE, stack, top\n",
    "    if(isStackEmpty()):\n",
    "        print(\"스택이 비었습니다\")\n",
    "        return None\n",
    "    popData = stack[top]\n",
    "    top -= 1\n",
    "    return popData\n",
    "\n",
    "def peek():\n",
    "    global SIZE, stack, top\n",
    "    if(isStackEmpty()):\n",
    "        print(\"스택이 비었습니다\")\n",
    "        return None\n",
    "    return stack[top]\n",
    "\n",
    "def checkBracket(expr):\n",
    "    for ch in expr:\n",
    "        if ch in '([{<': #여는 괄호면 push하기\n",
    "            push(ch)\n",
    "        elif ch in ')]}>': #닫는 괄호면 pop하고 비교하기\n",
    "            out = pop()\n",
    "            if ch ==')' and out =='(':\n",
    "                pass\n",
    "            elif ch == ']' and out == '[':\n",
    "                pass\n",
    "            elif ch == '}' and out == '{':\n",
    "                pass\n",
    "            elif ch == '>' and out == '<':\n",
    "                pass\n",
    "            else:\n",
    "                return False\n",
    "        else:\n",
    "            pass\n",
    "    if isStackEmpty():\n",
    "        return True\n",
    "    else:\n",
    "        return False\n",
    "\n",
    "SIZE = 100\n",
    "stack = [None for _ in range(SIZE)]\n",
    "top = -1\n",
    "\n",
    "if __name__ == \"__main__\":\n",
    "    exprArray = ['(A+B)', ')A+B(', '((A+B)-C', '(A+B]', '(<A+{B-C}/[C*D]>)']\n",
    "\n",
    "    for expr in exprArray:\n",
    "        top = -1\n",
    "        print(expr, '-->', checkBracket(expr))\n"
   ]
  },
  {
   "cell_type": "code",
   "execution_count": 35,
   "id": "3cefa309",
   "metadata": {},
   "outputs": [
    {
     "name": "stdout",
     "output_type": "stream",
     "text": [
      "3.0\n",
      "9.5\n"
     ]
    }
   ],
   "source": [
    "#후위표기식\n",
    "\n",
    "def push(data):\n",
    "    stack.append(data)\n",
    "\n",
    "def peek(data):\n",
    "    if len(stack) != 0:\n",
    "        return stack[-1]\n",
    "\n",
    "def pop():\n",
    "    if len(stack) != 0:\n",
    "        popData = stack.pop(-1)\n",
    "        return popData\n",
    "\n",
    "def compute(op, op1, op2):\n",
    "    if op == \"*\":\n",
    "        return op1*op2\n",
    "    elif op == \"+\":\n",
    "        return op1+op2\n",
    "    elif op == \"-\":\n",
    "        return op1-op2\n",
    "    elif op == \"/\":\n",
    "        return op1/op2\n",
    "\n",
    "def evaluation(input_expr):\n",
    "    token_list = input_expr.split()\n",
    "\n",
    "    for token in token_list:\n",
    "        if token in \"0123456789\":\n",
    "            push(int(token))\n",
    "        else:\n",
    "            operand2 = pop()\n",
    "            operand1 = pop()\n",
    "            result = compute(token, operand1, operand2)\n",
    "            push(result)\n",
    "    return pop()\n",
    "\n",
    "stack = []\n",
    "print(evaluation('7 8 + 3 2 + /'))\n",
    "print(evaluation('2 3 5 * 6 4 - / +'))"
   ]
  }
 ],
 "metadata": {
  "kernelspec": {
   "display_name": "base",
   "language": "python",
   "name": "python3"
  },
  "language_info": {
   "codemirror_mode": {
    "name": "ipython",
    "version": 3
   },
   "file_extension": ".py",
   "mimetype": "text/x-python",
   "name": "python",
   "nbconvert_exporter": "python",
   "pygments_lexer": "ipython3",
   "version": "3.11.7"
  }
 },
 "nbformat": 4,
 "nbformat_minor": 5
}
