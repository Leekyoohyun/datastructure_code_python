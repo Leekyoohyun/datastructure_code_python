{
 "cells": [
  {
   "cell_type": "markdown",
   "metadata": {},
   "source": [
    "# Stack"
   ]
  },
  {
   "cell_type": "markdown",
   "metadata": {},
   "source": [
    "## 스택 정의\n",
    "스택은 한쪽 끝이 막힌 형태\n",
    "\n",
    "입구가 하나이기 떄문에 먼저 들어간 게 나중에 나옴\n",
    "즉 넣은거부터 빼야함\n",
    "\n",
    "## 스택 기본 구조\n",
    "데이터 삽입 : push()\n",
    "\n",
    "데이터 추출: pop()\n",
    "\n",
    "맨 위 데이터(방금 넣은 거): top()"
   ]
  },
  {
   "cell_type": "code",
   "execution_count": null,
   "metadata": {},
   "outputs": [],
   "source": [
    "# 스택 생성\n",
    "stack = [None, None, None, None, None]\n",
    "top = -1"
   ]
  },
  {
   "cell_type": "markdown",
   "metadata": {},
   "source": [
    "### push()"
   ]
  },
  {
   "cell_type": "code",
   "execution_count": null,
   "metadata": {},
   "outputs": [],
   "source": [
    "#Code 06-01.py\n",
    "stack = [None, None, None, None, None]\n",
    "top = -1\n",
    "\n",
    "top += 1\n",
    "stack[top]= \"커피\"\n",
    "top += 1\n",
    "stack[top] = \"녹차\"\n",
    "top += 1\n",
    "stack[top] = \"꿀물\"\n",
    "\n",
    "print(\"===스택 상태===\")\n",
    "for i in range(len(stack)-1, -1, -1):\n",
    "    print(stack[i])\n"
   ]
  },
  {
   "cell_type": "markdown",
   "metadata": {},
   "source": [
    "### pop()"
   ]
  },
  {
   "cell_type": "code",
   "execution_count": null,
   "metadata": {},
   "outputs": [],
   "source": [
    "#Code06-02.py\n",
    "stack = [\"커피\", \"녹차\", \"꿀물\", None, None]\n",
    "top = 2\n",
    "\n",
    "print(\"=== 스택 상태 ===\")\n",
    "for i in range(len(stack)-1, -1, -1):\n",
    "    print(stack[i])\n",
    "\n",
    "print(\"------------\")\n",
    "\n",
    "data = stack[top]\n",
    "stack[top] = None\n",
    "top -= 1\n",
    "print(\"pop -->\", data)\n",
    "\n",
    "data = stack[top]\n",
    "stack[top] = None\n",
    "top -= 1\n",
    "print(\"pop -->\", data)\n",
    "\n",
    "data = stack[top]\n",
    "stack[top] = None\n",
    "top -= 1\n",
    "print(\"pop -->\", data)\n",
    "print(\"--------------\")\n",
    "\n",
    "print(\"=== 스택 상태 ===\")\n",
    "for i in range(len(stack)-1, -1, -1):\n",
    "    print(stack[i])\n"
   ]
  },
  {
   "cell_type": "markdown",
   "metadata": {},
   "source": [
    "### 스택 초기화"
   ]
  },
  {
   "cell_type": "code",
   "execution_count": null,
   "metadata": {},
   "outputs": [],
   "source": [
    "# 5개짜리 빈 스택을 생성\n",
    "stack = [None, None, None, None, None]\n",
    "\n",
    "#SIZE 값만 변경하면 원하는 크기의 빈 스택 생성(초기화)\n",
    "SIZE = 5 #스택 크기\n",
    "stack = [None for _ in range(SIZE)]\n",
    "top = -1"
   ]
  },
  {
   "cell_type": "markdown",
   "metadata": {},
   "source": [
    "### isStackFull()\n",
    "top 값이 len(stack)-1이면 스택이 꽉 찬거임"
   ]
  },
  {
   "cell_type": "code",
   "execution_count": null,
   "metadata": {},
   "outputs": [],
   "source": [
    "#Code06-03.py\n",
    "def isStackFull():\n",
    "    global SIZE, stack, top\n",
    "    if(top>=SIZE-1):\n",
    "        return True\n",
    "    else:\n",
    "        return False\n",
    "    \n",
    "SIZE = 5\n",
    "stack = [\"커피\", \"녹차\", \"꿀물\", \"콜라\", \"환타\"]\n",
    "top = 4\n",
    "\n",
    "print(\"스택 꽉 찼나? -->\",isStackFull())"
   ]
  },
  {
   "cell_type": "markdown",
   "metadata": {},
   "source": [
    "### 스택에 데이터를 삽입하는 함수\n",
    "### push()"
   ]
  },
  {
   "cell_type": "code",
   "execution_count": null,
   "metadata": {},
   "outputs": [],
   "source": [
    "#Code06-04.py\n",
    "def isStackFull():\n",
    "    global SIZE, stack, top\n",
    "    if(top>=SIZE-1):\n",
    "        return True\n",
    "    else:\n",
    "        return False\n",
    "\n",
    "def push(data):\n",
    "    global SIZE, stack, top\n",
    "    if(isStackFull()):\n",
    "        print(\"꽉 참\")\n",
    "        return\n",
    "    top += 1\n",
    "    stack[top] = data\n",
    "    \n",
    "SIZE = 5\n",
    "stack = [\"커피\", \"녹차\", \"꿀물\", \"콜라\", None]\n",
    "top = 3\n",
    "\n",
    "print(stack)\n",
    "push(\"환타\")\n",
    "print(stack)\n",
    "push(\"사이다\")"
   ]
  },
  {
   "cell_type": "markdown",
   "metadata": {},
   "source": [
    "### 데이터 추출과정 \n",
    "### isStackEmpty()\n",
    "top 값이 -1이라면 스택은 비어있는 상태"
   ]
  },
  {
   "cell_type": "code",
   "execution_count": null,
   "metadata": {},
   "outputs": [],
   "source": [
    "#Code06-05.py 스택이 비었는지 확인\n",
    "def isStackEmpty():\n",
    "    global SIZE, stack, top\n",
    "    if(top == -1):\n",
    "        return True\n",
    "    else:\n",
    "        return False\n",
    "\n",
    "SIZE = 5\n",
    "stack = [None for _ in range(SIZE-1, -1, -1)]\n",
    "top = -1\n",
    "\n",
    "print(\"스택이 비었나? --> \", isStackEmpty())\n"
   ]
  },
  {
   "cell_type": "markdown",
   "metadata": {},
   "source": [
    "### 스택에서 데이터 추출하는 함수\n",
    "### pop()"
   ]
  },
  {
   "cell_type": "code",
   "execution_count": null,
   "metadata": {},
   "outputs": [],
   "source": [
    "#Code06-06.py\n",
    "def isStackEmpty():\n",
    "    global SIZE, stack, top\n",
    "    if(top == -1):\n",
    "        return True\n",
    "    else:\n",
    "        return False\n",
    "\n",
    "def pop():\n",
    "    global SIZE, stack, top\n",
    "    if(isStackEmpty()):\n",
    "        print(\"스택이 비어있음\")\n",
    "        return None\n",
    "    data = stack[top]\n",
    "    stack[top] = None\n",
    "    top -= 1\n",
    "    return data\n",
    "\n",
    "SIZE = 5\n",
    "stack = [\"커피\", None, None, None, None]\n",
    "top = 0\n",
    "\n",
    "print(stack)\n",
    "retData = pop()\n",
    "print(\"pop한 데이터: \", retData)\n",
    "print(stack)\n",
    "retData = pop()\n"
   ]
  },
  {
   "cell_type": "markdown",
   "metadata": {},
   "source": [
    "### 데이터 확인 \n",
    "### peek()\n",
    "top위치의 데이터만 확인 후 스택에 그대로 둠"
   ]
  },
  {
   "cell_type": "code",
   "execution_count": null,
   "metadata": {},
   "outputs": [],
   "source": [
    "#Code06-07.py\n",
    "def isStackEmpty():\n",
    "    global SIZE, stack, top\n",
    "    if(top == -1):\n",
    "        return True\n",
    "    else:\n",
    "        return False\n",
    "\n",
    "def peek():\n",
    "    global SIZE, stack, top\n",
    "    if(isStackEmpty()):\n",
    "        print(\"스택이 비었습니다.\")\n",
    "        return None\n",
    "    return stack[top]\n",
    "\n",
    "SIZE = 5\n",
    "stack = [\"커피\", \"녹차\", \"꿀물\", None, None]\n",
    "top = 2\n",
    "\n",
    "print(stack)\n",
    "peek()\n",
    "print(stack)"
   ]
  },
  {
   "cell_type": "markdown",
   "metadata": {},
   "source": [
    "### 스택 완성"
   ]
  },
  {
   "cell_type": "code",
   "execution_count": null,
   "metadata": {},
   "outputs": [],
   "source": [
    "#Code06-08.py\n",
    "\n",
    "# 함수 선언부\n",
    "def isStackFull():          #스택이 꽉 찼는지?\n",
    "    global SIZE, stack, top\n",
    "    if(top >= SIZE-1):\n",
    "        return True\n",
    "    else:\n",
    "        return False\n",
    "\n",
    "def isStackEmpty():         #스택이 비었는지?\n",
    "    global SIZE, stack, top\n",
    "    if(top == -1):\n",
    "        return True\n",
    "    else:\n",
    "        return False\n",
    "\n",
    "def push(data):         #데이터 삽입\n",
    "    global SIZE, stack, top\n",
    "    if(isStackFull()):\n",
    "        print(\"스택이 꽉 찼습니다\")\n",
    "        return\n",
    "    top += 1\n",
    "    stack[top] = data\n",
    "\n",
    "def pop():          #데이터 추출\n",
    "    global SIZE, stack, top\n",
    "    if(isStackEmpty()):\n",
    "        print(\"스택이 비어있음\")\n",
    "        return\n",
    "    data = stack[top]\n",
    "    stack[top] = None\n",
    "    top -= 1\n",
    "    return data\n",
    "\n",
    "def peek():         #top데이터 확인만\n",
    "    global SIZE, stack, top\n",
    "    if(isStackEmpty()):\n",
    "        print(\"스택이 비어있음\")\n",
    "        return None\n",
    "    return stack[top]\n",
    "\n",
    "# 전역 변수 선언부분\n",
    "SIZE = int(input(\"스택 크기를 입력하세요 ==> \"))\n",
    "stack = [None for _ in range(SIZE)]\n",
    "top = -1\n",
    "\n",
    "\n",
    "# 메인 코드 부분\n",
    "if __name__ == \"__main__\":\n",
    "    select = input(\"삽입(I)/추출(E)/확인(V)/종료(X) 중 하나를 선택 -->\")\n",
    "    \n",
    "    while(select != 'X' and select != 'x'):\n",
    "        if select == 'I' or select == 'i':\n",
    "            data = input(\"입력할 데이터 ==> \")\n",
    "            push(data)\n",
    "            print(\"스택 상태 : \", stack)\n",
    "        elif select == 'E' or select == 'e':\n",
    "            data = pop()\n",
    "            print(\"추출된 데이터 ==> \", data)\n",
    "            print(\"스택 상태 ==> \", stack)\n",
    "        elif select == 'V' or select == 'v':\n",
    "            data = peek()\n",
    "            print(\"확인된 데이터 ==> \", data)\n",
    "            print(\"스택 상태 ==> \", stack)\n",
    "        else:\n",
    "            print(\"정해진 입력만 하세요\")\n",
    "        \n",
    "        select = input(\"삽입(I)/추출(E)/확인(V)/종료(X) 중 하나를 선택 -->\")\n",
    "    \n",
    "    print(\"프로그램 종료!\")"
   ]
  },
  {
   "cell_type": "markdown",
   "metadata": {},
   "source": [
    "## 리스트로 구현한 스택"
   ]
  },
  {
   "cell_type": "code",
   "execution_count": 31,
   "metadata": {},
   "outputs": [
    {
     "name": "stdout",
     "output_type": "stream",
     "text": [
      "['apple', 'orange', 'cherry']\n",
      "cherry\n",
      "['apple', 'orange', 'cherry']\n",
      "cherry\n",
      "['apple', 'orange']\n",
      "['apple', 'orange', 'mango']\n"
     ]
    }
   ],
   "source": [
    "def push(item):\n",
    "    stack.append(item)  #push() = append() 리스트의 맨 뒤에 item 추가\n",
    "\n",
    "def peek():\n",
    "    if len(stack) != 0:\n",
    "        return stack[-1] #top 항목 = 리시트의 맨 뒤 항목\n",
    "\n",
    "def pop(): #삭제연산\n",
    "    if len(stack) != 0:\n",
    "        item = stack.pop(-1) #pop() 리스트의 맨 뒤에 있는 항목 제거\n",
    "        return item\n",
    "stack = [] #리스트 선언\n",
    "\n",
    "push('apple')\n",
    "push('orange')\n",
    "push('cherry')\n",
    "\n",
    "print(stack)\n",
    "print(peek())\n",
    "print(stack)\n",
    "print(pop())\n",
    "print(stack)\n",
    "push('mango')\n",
    "print(stack)"
   ]
  },
  {
   "cell_type": "markdown",
   "metadata": {},
   "source": [
    "---\n",
    "## 스택 응용"
   ]
  },
  {
   "cell_type": "markdown",
   "metadata": {},
   "source": [
    "### 괄호의 매칭 검사하기\n",
    "\n",
    "괄호 입력 될때마다 스택에 넣고 같은 종류 들어오면 꺼내서 비교\n",
    "\n",
    "여는 괄호는 push 하고 닫는 괄호는 pop 한다\n",
    "수식 중 글자 하나가 추출, 괄호라면 "
   ]
  },
  {
   "cell_type": "code",
   "execution_count": 32,
   "metadata": {},
   "outputs": [
    {
     "name": "stdout",
     "output_type": "stream",
     "text": [
      "(A+B) ==>  True\n",
      "스택이 비어있음\n",
      ")A+B( ==>  False\n",
      "((A+B)-C ==>  False\n",
      "(A+B] ==>  False\n",
      "(<A+{B-C}/[C*D]>) ==>  True\n"
     ]
    }
   ],
   "source": [
    "#Code06-10.py\n",
    "# 함수 선언부\n",
    "def isStackFull():          #스택이 꽉 찼는지?\n",
    "    global SIZE, stack, top\n",
    "    if(top >= SIZE-1):\n",
    "        return True\n",
    "    else:\n",
    "        return False\n",
    "\n",
    "def isStackEmpty():         #스택이 비었는지?\n",
    "    global SIZE, stack, top\n",
    "    if(top == -1):\n",
    "        return True\n",
    "    else:\n",
    "        return False\n",
    "\n",
    "def push(data):         #데이터 삽입\n",
    "    global SIZE, stack, top\n",
    "    if(isStackFull()):\n",
    "        print(\"스택이 꽉 찼습니다\")\n",
    "        return\n",
    "    top += 1\n",
    "    stack[top] = data\n",
    "\n",
    "def pop():          #데이터 추출\n",
    "    global SIZE, stack, top\n",
    "    if(isStackEmpty()):\n",
    "        print(\"스택이 비어있음\")\n",
    "        return\n",
    "    data = stack[top]\n",
    "    stack[top] = None\n",
    "    top -= 1\n",
    "    return data\n",
    "\n",
    "def peek():         #top데이터 확인만\n",
    "    global SIZE, stack, top\n",
    "    if(isStackEmpty()):\n",
    "        print(\"스택이 비어있음\")\n",
    "        return None\n",
    "    return stack[top]\n",
    "\n",
    "def checkBracket(expr):\n",
    "    for ch in expr:\n",
    "        if ch in '([{<':\n",
    "            push(ch)\n",
    "        elif ch in ')]}>':\n",
    "            out = pop()\n",
    "            if ch ==')' and out =='(':\n",
    "                pass\n",
    "            elif ch ==']' and out =='[':\n",
    "                pass\n",
    "            elif ch =='}' and out =='{':\n",
    "                pass\n",
    "            elif ch =='>' and out =='<':\n",
    "                pass\n",
    "            else: \n",
    "                return False\n",
    "        else:\n",
    "            pass\n",
    "    if isStackEmpty():\n",
    "        return True\n",
    "    else:\n",
    "        return False\n",
    "\n",
    "SIZE = 100\n",
    "stack = [None for _ in range(SIZE)]\n",
    "top = -1\n",
    "\n",
    "if __name__ == \"__main__\":\n",
    "\n",
    "    exprAry = ['(A+B)', ')A+B(', '((A+B)-C', '(A+B]', '(<A+{B-C}/[C*D]>)']\n",
    "\n",
    "    for expr in exprAry:\n",
    "        top = -1\n",
    "        print(expr, '==> ', checkBracket(expr))\n",
    "                                  \n"
   ]
  },
  {
   "cell_type": "markdown",
   "metadata": {},
   "source": [
    "## 후위 표기법 수식 계산\n",
    "### 전위 - prefix \n",
    "### 중위 - infix\n",
    "### 후위 - postfix\n",
    "\n",
    "후위 표기식 장점:<br>\n",
    "    <list>괄호를 사용하지 않아도 계산 순서를 알 수 있음<br></list>\n",
    "    <list>연산자의 우선순위를 생각할 필요가 없음<br></list>\n",
    "    <list>수식을 읽으면서 바로 계산할 수 있음<br></list>\n",
    "\n",
    "계산기 프로그램!"
   ]
  },
  {
   "cell_type": "code",
   "execution_count": 37,
   "metadata": {},
   "outputs": [
    {
     "name": "stdout",
     "output_type": "stream",
     "text": [
      "3.0\n",
      "9.5\n"
     ]
    }
   ],
   "source": [
    "# postfix 수식 계산기\n",
    "\n",
    "def push(item):\n",
    "    stack.append(item)\n",
    "def peek(): #top 항목 접근\n",
    "    if len(stack) != 0:\n",
    "        return stack[-1]\n",
    "def pop():\n",
    "    if len(stack) != 0:\n",
    "        item = stack.pop(-1)\n",
    "        return item\n",
    "def compute(op, op1, op2):\n",
    "    if op ==\"*\":\n",
    "        return op1 * op2\n",
    "    elif op == \"+\":\n",
    "        return op1+op2\n",
    "    elif op == \"-\":\n",
    "        return op1-op2\n",
    "    else:\n",
    "        return op1/op2\n",
    "    \n",
    "def evaluation(input_expr):\n",
    "    token_list = input_expr.split()\n",
    "\n",
    "    for token in token_list:\n",
    "        if token in \"0123456789\":\n",
    "            push(int(token))\n",
    "        else:\n",
    "            operand2 = pop()\n",
    "            operand1 = pop()\n",
    "            result = compute(token, operand1, operand2)\n",
    "            push(result)\n",
    "    return pop()\n",
    "\n",
    "stack = []\n",
    "print(evaluation('7 8 + 3 2 + /'))\n",
    "print(evaluation('2 3 5 * 6 4 - / +'))"
   ]
  }
 ],
 "metadata": {
  "kernelspec": {
   "display_name": "base",
   "language": "python",
   "name": "python3"
  },
  "language_info": {
   "codemirror_mode": {
    "name": "ipython",
    "version": 3
   },
   "file_extension": ".py",
   "mimetype": "text/x-python",
   "name": "python",
   "nbconvert_exporter": "python",
   "pygments_lexer": "ipython3",
   "version": "3.11.7"
  }
 },
 "nbformat": 4,
 "nbformat_minor": 2
}
