{
 "cells": [
  {
   "cell_type": "markdown",
   "metadata": {},
   "source": [
    "# Stack"
   ]
  },
  {
   "cell_type": "markdown",
   "metadata": {},
   "source": [
    "## 스택 정의\n",
    "스택은 한쪽 끝이 막힌 형태\n",
    "\n",
    "입구가 하나이기 떄문에 먼저 들어간 게 나중에 나옴\n",
    "즉 넣은거부터 빼야함\n",
    "\n",
    "## 스택 기본 구조\n",
    "데이터 삽입 : push()\n",
    "\n",
    "데이터 추출: pop()\n",
    "\n",
    "맨 위 데이터(방금 넣은 거): top()"
   ]
  },
  {
   "cell_type": "code",
   "execution_count": null,
   "metadata": {},
   "outputs": [],
   "source": [
    "# 스택 생성\n",
    "stack = [None, None, None, None, None]\n",
    "top = -1"
   ]
  },
  {
   "cell_type": "markdown",
   "metadata": {},
   "source": [
    "### push()"
   ]
  },
  {
   "cell_type": "code",
   "execution_count": null,
   "metadata": {},
   "outputs": [],
   "source": [
    "#Code 06-01.py\n",
    "stack = [None, None, None, None, None]\n",
    "top = -1\n",
    "\n",
    "top += 1\n",
    "stack[top]= \"커피\"\n",
    "top += 1\n",
    "stack[top] = \"녹차\"\n",
    "top += 1\n",
    "stack[top] = \"꿀물\"\n",
    "\n",
    "print(\"===스택 상태===\")\n",
    "for i in range(len(stack)-1, -1, -1):\n",
    "    print(stack[i])\n"
   ]
  },
  {
   "cell_type": "markdown",
   "metadata": {},
   "source": [
    "### pop()"
   ]
  },
  {
   "cell_type": "code",
   "execution_count": null,
   "metadata": {},
   "outputs": [],
   "source": [
    "#Code06-02.py\n",
    "stack = [\"커피\", \"녹차\", \"꿀물\", None, None]\n",
    "top = 2\n",
    "\n",
    "print(\"=== 스택 상태 ===\")\n",
    "for i in range(len(stack)-1, -1, -1):\n",
    "    print(stack[i])\n",
    "\n",
    "print(\"------------\")\n",
    "\n",
    "data = stack[top]\n",
    "stack[top] = None\n",
    "top -= 1\n",
    "print(\"pop -->\", data)\n",
    "\n",
    "data = stack[top]\n",
    "stack[top] = None\n",
    "top -= 1\n",
    "print(\"pop -->\", data)\n",
    "\n",
    "data = stack[top]\n",
    "stack[top] = None\n",
    "top -= 1\n",
    "print(\"pop -->\", data)\n",
    "print(\"--------------\")\n",
    "\n",
    "print(\"=== 스택 상태 ===\")\n",
    "for i in range(len(stack)-1, -1, -1):\n",
    "    print(stack[i])\n"
   ]
  },
  {
   "cell_type": "markdown",
   "metadata": {},
   "source": [
    "### 스택 초기화"
   ]
  },
  {
   "cell_type": "code",
   "execution_count": 5,
   "metadata": {},
   "outputs": [],
   "source": [
    "# 5개짜리 빈 스택을 생성\n",
    "stack = [None, None, None, None, None]\n",
    "\n",
    "#SIZE 값만 변경하면 원하는 크기의 빈 스택 생성(초기화)\n",
    "SIZE = 5 #스택 크기\n",
    "stack = [None for _ in range(SIZE)]\n",
    "top = -1"
   ]
  },
  {
   "cell_type": "markdown",
   "metadata": {},
   "source": [
    "### isStackFull()\n",
    "top 값이 len(stack)-1이면 스택이 꽉 찬거임"
   ]
  },
  {
   "cell_type": "code",
   "execution_count": null,
   "metadata": {},
   "outputs": [
    {
     "name": "stdout",
     "output_type": "stream",
     "text": [
      "스택 꽉 찼나? --> True\n"
     ]
    }
   ],
   "source": [
    "#Code06-03.py\n",
    "def isStackFull():\n",
    "    global SIZE, stack, top\n",
    "    if(top>=SIZE-1):\n",
    "        return True\n",
    "    else:\n",
    "        return False\n",
    "    \n",
    "SIZE = 5\n",
    "stack = [\"커피\", \"녹차\", \"꿀물\", \"콜라\", \"환타\"]\n",
    "top = 4\n",
    "\n",
    "print(\"스택 꽉 찼나? -->\",isStackFull())"
   ]
  },
  {
   "cell_type": "markdown",
   "metadata": {},
   "source": [
    "### 스택에 데이터를 삽입하는 함수\n",
    "### push()"
   ]
  },
  {
   "cell_type": "code",
   "execution_count": 13,
   "metadata": {},
   "outputs": [
    {
     "name": "stdout",
     "output_type": "stream",
     "text": [
      "['커피', '녹차', '꿀물', '콜라', None]\n",
      "['커피', '녹차', '꿀물', '콜라', '환타']\n",
      "꽉 참\n"
     ]
    }
   ],
   "source": [
    "#Code06-04.py\n",
    "def isStackFull():\n",
    "    global SIZE, stack, top\n",
    "    if(top>=SIZE-1):\n",
    "        return True\n",
    "    else:\n",
    "        return False\n",
    "\n",
    "def push(data):\n",
    "    global SIZE, stack, top\n",
    "    if(isStackFull()):\n",
    "        print(\"꽉 참\")\n",
    "        return\n",
    "    top += 1\n",
    "    stack[top] = data\n",
    "    \n",
    "SIZE = 5\n",
    "stack = [\"커피\", \"녹차\", \"꿀물\", \"콜라\", None]\n",
    "top = 3\n",
    "\n",
    "print(stack)\n",
    "push(\"환타\")\n",
    "print(stack)\n",
    "push(\"사이다\")"
   ]
  },
  {
   "cell_type": "markdown",
   "metadata": {},
   "source": [
    "### 데이터 추출과정 \n",
    "### isStackEmpty()\n",
    "top 값이 -1이라면 스택은 비어있는 상태"
   ]
  },
  {
   "cell_type": "code",
   "execution_count": 14,
   "metadata": {},
   "outputs": [
    {
     "name": "stdout",
     "output_type": "stream",
     "text": [
      "스택이 비었나? -->  True\n"
     ]
    }
   ],
   "source": [
    "#Code06-05.py 스택이 비었는지 확인\n",
    "def isStackEmpty():\n",
    "    global SIZE, stack, top\n",
    "    if(top == -1):\n",
    "        return True\n",
    "    else:\n",
    "        return False\n",
    "\n",
    "SIZE = 5\n",
    "stack = [None for _ in range(SIZE-1, -1, -1)]\n",
    "top = -1\n",
    "\n",
    "print(\"스택이 비었나? --> \", isStackEmpty())\n"
   ]
  },
  {
   "cell_type": "markdown",
   "metadata": {},
   "source": [
    "### 스택에서 데이터 추출하는 함수\n",
    "### pop()"
   ]
  },
  {
   "cell_type": "code",
   "execution_count": null,
   "metadata": {},
   "outputs": [
    {
     "name": "stdout",
     "output_type": "stream",
     "text": [
      "['커피', None, None, None, None]\n",
      "pop한 데이타:  커피\n",
      "[None, None, None, None, None]\n",
      "스택이 비어있음\n"
     ]
    }
   ],
   "source": [
    "#Code06-06.py\n",
    "def isStackEmpty():\n",
    "    global SIZE, stack, top\n",
    "    if(top == -1):\n",
    "        return True\n",
    "    else:\n",
    "        return False\n",
    "\n",
    "def pop():\n",
    "    global SIZE, stack, top\n",
    "    if(isStackEmpty()):\n",
    "        print(\"스택이 비어있음\")\n",
    "        return None\n",
    "    data = stack[top]\n",
    "    stack[top] = None\n",
    "    top -= 1\n",
    "    return data\n",
    "\n",
    "SIZE = 5\n",
    "stack = [\"커피\", None, None, None, None]\n",
    "top = 0\n",
    "\n",
    "print(stack)\n",
    "retData = pop()\n",
    "print(\"pop한 데이터: \", retData)\n",
    "print(stack)\n",
    "retData = pop()\n"
   ]
  },
  {
   "cell_type": "markdown",
   "metadata": {},
   "source": [
    "### 데이터 확인 \n",
    "### peek()\n",
    "top위치의 데이터만 확인 후 스택에 그대로 둠"
   ]
  },
  {
   "cell_type": "code",
   "execution_count": 20,
   "metadata": {},
   "outputs": [
    {
     "name": "stdout",
     "output_type": "stream",
     "text": [
      "['커피', '녹차', '꿀물', None, None]\n",
      "['커피', '녹차', '꿀물', None, None]\n"
     ]
    }
   ],
   "source": [
    "#Code06-07.py\n",
    "def isStackEmpty():\n",
    "    global SIZE, stack, top\n",
    "    if(top == -1):\n",
    "        return True\n",
    "    else:\n",
    "        return False\n",
    "\n",
    "def peek():\n",
    "    global SIZE, stack, top\n",
    "    if(isStackEmpty()):\n",
    "        print(\"스택이 비었습니다.\")\n",
    "        return None\n",
    "    return stack[top]\n",
    "\n",
    "SIZE = 5\n",
    "stack = [\"커피\", \"녹차\", \"꿀물\", None, None]\n",
    "top = 2\n",
    "\n",
    "print(stack)\n",
    "peek()\n",
    "print(stack)"
   ]
  },
  {
   "cell_type": "markdown",
   "metadata": {},
   "source": [
    "### 스택 완성"
   ]
  },
  {
   "cell_type": "code",
   "execution_count": null,
   "metadata": {},
   "outputs": [
    {
     "name": "stdout",
     "output_type": "stream",
     "text": [
      "스택이 꽉 찼습니다\n",
      "스택 상태 :  [None, None, None, None, None]\n",
      "스택이 꽉 찼습니다\n",
      "스택 상태 :  [None, None, None, None, None]\n",
      "정해진 입력만 하세요\n",
      "정해진 입력만 하세요\n",
      "정해진 입력만 하세요\n",
      "정해진 입력만 하세요\n",
      "정해진 입력만 하세요\n",
      "정해진 입력만 하세요\n",
      "정해진 입력만 하세요\n",
      "정해진 입력만 하세요\n",
      "정해진 입력만 하세요\n",
      "프로그램 종료!\n"
     ]
    }
   ],
   "source": [
    "#Code06-08.py\n",
    "\n",
    "# 함수 선언부\n",
    "def isStackFull():          #스택이 꽉 찼는지?\n",
    "    global SIZE, stack, top\n",
    "    if(top >= SIZE-1):\n",
    "        return True\n",
    "    else:\n",
    "        return False\n",
    "\n",
    "def isStackEmpty():         #스택이 비었는지?\n",
    "    global SIZE, stack, top\n",
    "    if(top == -1):\n",
    "        return True\n",
    "    else:\n",
    "        return False\n",
    "\n",
    "def push(data):         #데이터 삽입\n",
    "    global SIZE, stack, top\n",
    "    if(isStackFull()):\n",
    "        print(\"스택이 꽉 찼습니다\")\n",
    "        return\n",
    "    top += 1\n",
    "    stack[top] = data\n",
    "\n",
    "def pop():          #데이터 추출\n",
    "    global SIZE, stack, top\n",
    "    if(isStackEmpty()):\n",
    "        print(\"스택이 비어있음\")\n",
    "        return\n",
    "    data = stack[top]\n",
    "    stack[top] = None\n",
    "    top -= 1\n",
    "    return data\n",
    "\n",
    "def peek():         #top데이터 확인만\n",
    "    global SIZE, stack, top\n",
    "    if(isStackEmpty()):\n",
    "        print(\"스택이 비어있음\")\n",
    "        return None\n",
    "    return stack[top]\n",
    "\n",
    "# 전역 변수 선언부분\n",
    "SIZE = int(input(\"스택 크기를 입력하세요 ==> \"))\n",
    "stack = [None for _ in range(SIZE)]\n",
    "top = -1\n",
    "\n",
    "\n",
    "# 메인 코드 부분\n",
    "if __name__ == \"__main__\":\n",
    "    select = input(\"삽입(I)/추출(E)/확인(V)/종료(X) 중 하나를 선택 -->\")\n",
    "    \n",
    "    while(select != 'X' and select != 'x'):\n",
    "        if select == 'I' or select == 'i':\n",
    "            data = input(\"입력할 데이터 ==> \")\n",
    "            push(data)\n",
    "            print(\"스택 상태 : \", stack)\n",
    "        elif select == 'E' or select == 'e':\n",
    "            data = pop()\n",
    "            print(\"추출된 데이터 ==> \", data)\n",
    "            print(\"스택 상태 ==> \", stack)\n",
    "        elif select == 'V' or select == 'v':\n",
    "            data = peek()\n",
    "            print(\"확인된 데이터 ==> \", data)\n",
    "            print(\"스택 상태 ==> \", stack)\n",
    "        else:\n",
    "            print(\"정해진 입력만 하세요\")\n",
    "        \n",
    "        select = input(\"삽입(I)/추출(E)/확인(V)/종료(X) 중 하나를 선택 -->\")\n",
    "    \n",
    "    print(\"프로그램 종료!\")"
   ]
  }
 ],
 "metadata": {
  "kernelspec": {
   "display_name": "base",
   "language": "python",
   "name": "python3"
  },
  "language_info": {
   "codemirror_mode": {
    "name": "ipython",
    "version": 3
   },
   "file_extension": ".py",
   "mimetype": "text/x-python",
   "name": "python",
   "nbconvert_exporter": "python",
   "pygments_lexer": "ipython3",
   "version": "3.11.7"
  }
 },
 "nbformat": 4,
 "nbformat_minor": 2
}
