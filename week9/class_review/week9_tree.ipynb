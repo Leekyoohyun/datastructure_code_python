{
 "cells": [
  {
   "cell_type": "markdown",
   "id": "c1ba1f61",
   "metadata": {},
   "source": [
    "# Tree\n",
    "## 트리 구조란\n",
    "상위 데이터 안에 하위 데이터들이 계속 이어져 있는 구조와 같은 구성\n",
    "\n",
    "## 이진트리\n",
    "모든 노드의 자식이 최댜 두개인 트리(자식이 2개 이하로 구성됨)\n",
    "depth -> 트리 높이\n",
    "\n",
    "## 이진트리 종류\n",
    "- 포화 이진트리(full binary tree)\n",
    "\n",
    "- 완전 이진트리(complete binary tree)\n",
    "\n",
    "- 편향 이진트리(skewed binary tree)"
   ]
  },
  {
   "cell_type": "markdown",
   "id": "dde7774e",
   "metadata": {},
   "source": [
    "## 이진 트리 노드 구조\n",
    "왼쪽링크(left) - 데이터 - 오른쪽링크(right)\n",
    "\n",
    "## 이진 트리 생성\n",
    "left node(솔라) <- root node(화사) -> right node(문별)\n",
    "솔라를 화사 노드의 왼쪽 노드로 지정, 문별을 화사노드의 오른쪽 노드로 지정\n",
    "그 밑으로 쭉쭉 자식 노드를 생성하고 부모 노드와 연결"
   ]
  },
  {
   "cell_type": "code",
   "execution_count": 1,
   "id": "6b7ecc73",
   "metadata": {},
   "outputs": [
    {
     "name": "stdout",
     "output_type": "stream",
     "text": [
      "화사 \n",
      "솔라 문별 \n",
      "휘인 쯔위 선미 "
     ]
    }
   ],
   "source": [
    "class TreeNode():\n",
    "    def __init__(self):\n",
    "        self.data = None\n",
    "        self.left = None\n",
    "        self.right = None\n",
    "\n",
    "node1 = TreeNode()\n",
    "node1.data = \"화사\"\n",
    "\n",
    "node2 = TreeNode()\n",
    "node2.data = \"솔라\"\n",
    "node1.left = node2\n",
    "\n",
    "node3 = TreeNode()\n",
    "node3.data = \"문별\"\n",
    "node1.right = node3\n",
    "\n",
    "node4 = TreeNode()\n",
    "node4.data = \"휘인\"\n",
    "node2.left = node4\n",
    "\n",
    "node5 = TreeNode()\n",
    "node5.data = \"쯔위\"\n",
    "node2.right = node5\n",
    "\n",
    "node6 = TreeNode()\n",
    "node6.data = \"선미\"\n",
    "node3.left = node6\n",
    "\n",
    "print(node1.data, end= ' ')\n",
    "print()\n",
    "print(node1.left.data, node1.right.data, end = ' ')\n",
    "print()\n",
    "print(node1.left.left.data, node1.left.right.data, node1.right.left.data, end = ' ')\n"
   ]
  },
  {
   "cell_type": "markdown",
   "id": "62ad432f",
   "metadata": {},
   "source": [
    "## 이진 트리 순회 (Traversal)\n",
    "traversal -> 이진 트리의 노드 전체를 한번 씩 방문하는 것\n",
    "- 전위 순회(preorder traversal)\n",
    "    1. 현재 노드 데이터 처리\n",
    "    2. 왼쪽 서브 트리로 이동\n",
    "    3. 오른쪽 서브 트리로 이동\n",
    "\n",
    "- 중위 훈회(inorder traversal)\n",
    "    1. 왼쪽 서브 트리로 이동\n",
    "    2. 현재 노드 데이터 처리\n",
    "    3. 오른쪽 서브 트리로 이동\n",
    "\n",
    "- 후위 순회(postorder traversal)\n",
    "    1. 왼쪽 서브 트리로 이동\n",
    "    2. 오른쪽 서브 트리로 이동\n",
    "    3. 현재 노드 데이터 처리"
   ]
  },
  {
   "cell_type": "markdown",
   "id": "fac26b76",
   "metadata": {},
   "source": [
    "## 순회 말로 정리\n",
    "### 전위 순회\n",
    "화사->솔라->회인->다현->쯔위->문별->선미->사나\n",
    "### 중위순회\n",
    "휘인->다현->솔라->쯔위->화사->선미->사나->문별\n",
    "### 후위순회\n",
    "다현->휘인->쯔위->솔라->사나->선미->문별->화사"
   ]
  },
  {
   "cell_type": "code",
   "execution_count": 4,
   "id": "9d33714e",
   "metadata": {},
   "outputs": [
    {
     "name": "stdout",
     "output_type": "stream",
     "text": [
      "전위순회:  화사->솔라->휘인->쯔위->문별->선미->끝\n",
      "중위순회:  휘인->솔라->쯔위->화사->선미->문별->끝\n",
      "후위순회:  휘인->쯔위->솔라->선미->문별->화사->끝\n"
     ]
    }
   ],
   "source": [
    "class TreeNode():\n",
    "    def __init__(self):\n",
    "        self.left = None\n",
    "        self.data = None\n",
    "        self.right = None\n",
    "\n",
    "node1 = TreeNode()\n",
    "node1.data = \"화사\"\n",
    "\n",
    "node2 = TreeNode()\n",
    "node2.data = \"솔라\"\n",
    "node1.left = node2\n",
    "\n",
    "node3 = TreeNode()\n",
    "node3.data = \"문별\"\n",
    "node1.right = node3\n",
    "\n",
    "node4 = TreeNode()\n",
    "node4.data = \"휘인\"\n",
    "node2.left = node4\n",
    "\n",
    "node5 = TreeNode()\n",
    "node5.data = \"쯔위\"\n",
    "node2.right = node5\n",
    "\n",
    "node6 = TreeNode()\n",
    "node6.data = \"선미\"\n",
    "node3.left = node6\n",
    "\n",
    "\n",
    "#이진 트리 순회 구현\n",
    "def preorder(node):\n",
    "    if node == None:\n",
    "        return\n",
    "    print(node.data, end = '->')\n",
    "    preorder(node.left)\n",
    "    preorder(node.right)\n",
    "\n",
    "def inorder(node):\n",
    "    if node == None:\n",
    "        return\n",
    "    inorder(node.left)\n",
    "    print(node.data, end = '->')\n",
    "    inorder(node.right)\n",
    "\n",
    "def postorder(node):\n",
    "    if node == None:\n",
    "        return\n",
    "    postorder(node.left)\n",
    "    postorder(node.right)\n",
    "    print(node.data, end = '->')\n",
    "\n",
    "print(\"전위순회: \", end = ' ')\n",
    "preorder(node1)\n",
    "print(\"끝\")\n",
    "\n",
    "print(\"중위순회: \", end = ' ')\n",
    "inorder(node1)\n",
    "print(\"끝\")\n",
    "\n",
    "print(\"후위순회: \", end = ' ')\n",
    "postorder(node1)\n",
    "print(\"끝\")"
   ]
  },
  {
   "cell_type": "markdown",
   "id": "9f89e040",
   "metadata": {},
   "source": [
    "## 이진 탐색 트리 일반구현\n",
    "이진 탐색 트리 특징\n",
    "1. 왼쪽 서브트리는 루트 노드보다 모두 작은 값을 가짐\n",
    "2. 오른쪽 서브 트리는 루트 노드보다 모두 큰 값을 가짐\n",
    "3. 각 서브 트리도 똑같은 조건\n",
    "4. 모든 노드 값은 중복 X, 중복된 건 트리에 저장 X"
   ]
  },
  {
   "cell_type": "markdown",
   "id": "6c495120",
   "metadata": {},
   "source": [
    "---\n",
    "## 이진 탐색 트리 삽입"
   ]
  },
  {
   "cell_type": "code",
   "execution_count": 7,
   "id": "06555f11",
   "metadata": {},
   "outputs": [
    {
     "name": "stdout",
     "output_type": "stream",
     "text": [
      "끝\n"
     ]
    }
   ],
   "source": [
    "#배열에 있는 데이터를 차례대로 이진 탐색 트리에 삽입\n",
    "class TreeNode():\n",
    "    def __init__(self):\n",
    "        self.left = None\n",
    "        self.data = None\n",
    "        self.right = None\n",
    "\n",
    "memory = []\n",
    "root = None\n",
    "nameAry = [\"블랙핑크\", \"레드벨벳\", \"마마무\", \"에이핑크\", \"걸스데이\", \"트와이스\"]\n",
    "\n",
    "node = TreeNode()\n",
    "node.data = nameAry[0]\n",
    "root = node\n",
    "memory.append(node)\n",
    "\n",
    "for name in nameAry[1:]:\n",
    "    node = TreeNode()\n",
    "    node.data = name\n",
    "    current = root\n",
    "    while True:\n",
    "        if name < current.data:\n",
    "            if current.left == None:\n",
    "                current.left = node\n",
    "                break\n",
    "            current = current.left\n",
    "        else:\n",
    "            if current.right == None:\n",
    "                current.right = node\n",
    "                break\n",
    "            current = current.right\n",
    "\n",
    "    memory.append(node)\n",
    "\n",
    "print(\"끝\")"
   ]
  },
  {
   "cell_type": "markdown",
   "id": "2d0cf938",
   "metadata": {},
   "source": [
    "---\n",
    "## 이진 탐색 트리에서 데이터 검색"
   ]
  },
  {
   "cell_type": "code",
   "execution_count": 8,
   "id": "20e14d31",
   "metadata": {},
   "outputs": [
    {
     "name": "stdout",
     "output_type": "stream",
     "text": [
      "마마무  찾음\n"
     ]
    }
   ],
   "source": [
    "findName = \"마마무\"\n",
    "\n",
    "current = root\n",
    "while True:\n",
    "    if findName == current.data:\n",
    "        print(findName, \" 찾음\")\n",
    "        break\n",
    "    elif findName < current.data:\n",
    "        if current.left == None:\n",
    "            print(findName, \" 이 트리에 없어요\")\n",
    "            break\n",
    "        current = current.left\n",
    "    else:\n",
    "        if current.right == None:\n",
    "            print(findName, \" 이 트리에 없어요\")\n",
    "            break\n",
    "        current = current.right"
   ]
  },
  {
   "cell_type": "markdown",
   "id": "4f6fd20e",
   "metadata": {},
   "source": [
    "---\n",
    "## 이진 탐색 트리에서 데이터 삭제"
   ]
  },
  {
   "cell_type": "markdown",
   "id": "bb99b4fb",
   "metadata": {},
   "source": [
    "1. 리프 노드(맨 아래 노드)를 삭제\n",
    "    현재 노드가 부모 노드의 왼쪽 링크인지, 오른쪽 링크인지 구분하고자\n",
    "\n",
    "2. 자식 노드가 하나인 노드를 삭제\n",
    "    - 왼쪽 자식 노드가 있는 경우\n",
    "    - 오른쪽 자식 노드가 있는 경우\n",
    "\n",
    "3. 자식 노드가 둘 있는 노드의 경우: 재귀 사용"
   ]
  },
  {
   "cell_type": "code",
   "execution_count": null,
   "id": "4a6ddde7",
   "metadata": {},
   "outputs": [],
   "source": [
    "deleteName = '마마무'\n",
    "\n",
    "current = root\n",
    "parent = None\n",
    "while True:\n",
    "    if deleteName == current.data:\n",
    "        if current.left == None and current.right == None:\n",
    "            if parent.left == current:\n",
    "                parent.left = None\n",
    "            else:\n",
    "                parent.right = None\n",
    "            del(current)\n",
    "        elif current.left != None and current.right == None:\n",
    "            if parent.left == current:\n",
    "                parent.left = current.left\n",
    "            else:\n",
    "                parent.right = current.left\n",
    "            del(current)\n",
    "        \n",
    "        elif current.left == None and current.right != None:\n",
    "            if parent.left == current:\n",
    "                parent.left = current.right\n",
    "            else:\n",
    "                parent.right = current.right\n",
    "            del(current)\n",
    "        \n",
    "        print(deleteName, \"이가 삭제됨\")\n",
    "        break\n",
    "    elif deleteName<current.data:\n",
    "        if current.left == None:\n",
    "            print(deleteName, \"이가 없음\")\n",
    "            break\n",
    "        parent = current\n",
    "        current = current.left\n",
    "    else:\n",
    "        if current.right == None:\n",
    "            print(deleteName, \"이가 없음\")\n",
    "            break\n",
    "        parent = current\n",
    "        current = current.right\n",
    "        "
   ]
  }
 ],
 "metadata": {
  "kernelspec": {
   "display_name": "base",
   "language": "python",
   "name": "python3"
  },
  "language_info": {
   "codemirror_mode": {
    "name": "ipython",
    "version": 3
   },
   "file_extension": ".py",
   "mimetype": "text/x-python",
   "name": "python",
   "nbconvert_exporter": "python",
   "pygments_lexer": "ipython3",
   "version": "3.11.7"
  }
 },
 "nbformat": 4,
 "nbformat_minor": 5
}
