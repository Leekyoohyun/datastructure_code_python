{
 "cells": [
  {
   "cell_type": "markdown",
   "id": "6f56ec2b",
   "metadata": {},
   "source": [
    "# 큐"
   ]
  },
  {
   "cell_type": "markdown",
   "id": "01df61ff",
   "metadata": {},
   "source": [
    "입구 출구가 다른 것\n",
    "\n",
    "대기줄"
   ]
  },
  {
   "cell_type": "markdown",
   "id": "8ad95022",
   "metadata": {},
   "source": [
    "## 큐 함수들\n",
    "\n",
    "- 데이터 삽입: enQueue()\n",
    "- 데이터 추출: deQueue()\n",
    "- 첫 번째 데이터: front\n",
    "- 마지막 데이터: rear"
   ]
  },
  {
   "cell_type": "markdown",
   "id": "29bc1e76",
   "metadata": {},
   "source": [
    "### enQueueu()\n",
    "데이터 삽입\n",
    "\n",
    "rear를 오른쪽으로 한칸 이동\n",
    "rear 위치에 데이터 입력\n",
    "\n",
    "### deQueue()\n",
    "데이터 추출"
   ]
  },
  {
   "cell_type": "markdown",
   "id": "cbbfc12b",
   "metadata": {},
   "source": [
    "## 큐 생성하기\n",
    "queue = [None, None, None, None, None]<br>\n",
    "front = rear = -1"
   ]
  },
  {
   "cell_type": "code",
   "execution_count": null,
   "id": "cbd14f2e",
   "metadata": {},
   "outputs": [
    {
     "name": "stdout",
     "output_type": "stream",
     "text": [
      "----큐 상태 ----\n",
      "[출구]<--  화사 솔라 문별 None None <--[입구]\n"
     ]
    }
   ],
   "source": [
    "#Code07-01.py\n",
    "#enQueue()\n",
    "\n",
    "queue = [None, None, None, None, None]\n",
    "front = rear = -1\n",
    "\n",
    "rear += 1\n",
    "queue[rear] = \"화사\"\n",
    "rear += 1\n",
    "queue[rear] = \"솔라\"\n",
    "rear += 1\n",
    "queue[rear] = \"문별\"\n",
    "\n",
    "print(\"---- 큐 상태 ----\")\n",
    "print(\"[출구]<-- \", end = ' ')\n",
    "for i in range(0, len(queue), 1):\n",
    "    print(queue[i], end = ' ')\n",
    "print('<--[입구]')"
   ]
  },
  {
   "cell_type": "code",
   "execution_count": 5,
   "id": "4728369b",
   "metadata": {},
   "outputs": [
    {
     "name": "stdout",
     "output_type": "stream",
     "text": [
      "---- 큐 상태 ----\n",
      "[출구]<--  화사 솔라 문별 None None <--[입구]\n",
      "-----------------\n",
      "deQueue -->  화사\n",
      "deQueue -->  솔라\n",
      "deQueue -->  문별\n",
      "---- 큐 상태 ----\n",
      "[출구]<--  None None None None None <--[입구]\n"
     ]
    }
   ],
   "source": [
    "#Code07-02.py\n",
    "#deQueue()\n",
    "\n",
    "queue = [\"화사\", \"솔라\", \"문별\",None, None]\n",
    "front = -1\n",
    "rear = 2\n",
    "\n",
    "print(\"---- 큐 상태 ----\")\n",
    "print(\"[출구]<-- \", end = ' ')\n",
    "for i in range(0, len(queue), 1):\n",
    "    print(queue[i], end = ' ')\n",
    "print('<--[입구]')\n",
    "print(\"-----------------\")\n",
    "\n",
    "front += 1\n",
    "data = queue[front]\n",
    "queue[front] = None\n",
    "print(\"deQueue --> \", data)\n",
    "\n",
    "front += 1\n",
    "data = queue[front]\n",
    "queue[front] = None\n",
    "print(\"deQueue --> \", data)\n",
    "\n",
    "front += 1\n",
    "data = queue[front]\n",
    "queue[front] = None\n",
    "print(\"deQueue --> \", data)\n",
    "\n",
    "print(\"---- 큐 상태 ----\")\n",
    "print(\"[출구]<-- \", end = ' ')\n",
    "for i in range(0, len(queue), 1):\n",
    "    print(queue[i], end = ' ')\n",
    "print('<--[입구]')"
   ]
  },
  {
   "cell_type": "code",
   "execution_count": null,
   "id": "02343c67",
   "metadata": {},
   "outputs": [],
   "source": [
    "# 5개짜리 빈 큐를 생성\n",
    "SIZE = 5\n",
    "queue = [None for _ in range(SIZE)]\n",
    "front = rear = -1"
   ]
  },
  {
   "cell_type": "code",
   "execution_count": 11,
   "id": "dad575ea",
   "metadata": {},
   "outputs": [
    {
     "name": "stdout",
     "output_type": "stream",
     "text": [
      "False\n",
      "True\n"
     ]
    }
   ],
   "source": [
    "# 데이터 삽입과정\n",
    "\n",
    "#Code07-03.py\n",
    "def isQueueFull():\n",
    "    global SIZE\n",
    "    global queue\n",
    "    global front\n",
    "    global rear\n",
    "\n",
    "    if(rear == SIZE-1):\n",
    "        return True\n",
    "    else:\n",
    "        return False\n",
    "    \n",
    "SIZE = 5\n",
    "queue = [\"화사\", \"솔라\", \"문별\", \"휘인\", None]\n",
    "front = -1\n",
    "rear = 3\n",
    "\n",
    "print(isQueueFull())\n",
    "\n",
    "SIZE = 5\n",
    "queue = [\"화사\", \"솔라\", \"문별\", \"휘인\", \"선미\"]\n",
    "front = -1\n",
    "rear = 4\n",
    "\n",
    "print(isQueueFull())"
   ]
  },
  {
   "cell_type": "code",
   "execution_count": null,
   "id": "1022da8f",
   "metadata": {},
   "outputs": [
    {
     "name": "stdout",
     "output_type": "stream",
     "text": [
      "['화사', '솔라', '문별', '휘인', None]\n",
      "['화사', '솔라', '문별', '휘인', '선미']\n",
      "큐가 꽉 찼어요\n"
     ]
    }
   ],
   "source": [
    "#Code07-04.py\n",
    "#큐에 데이터 삽입하기\n",
    "def isQueueFull():\n",
    "    global queue, front, SIZE, rear\n",
    "    if(rear == SIZE-1):\n",
    "        return True\n",
    "    else:\n",
    "        return False\n",
    "\n",
    "def enQueue(data):\n",
    "    global queue, front, SIZE, rear\n",
    "    if(isQueueFull()):\n",
    "        print(\"큐가 꽉 찼어요\")\n",
    "        return\n",
    "    else:\n",
    "        rear += 1\n",
    "        queue[rear] = data\n",
    "\n",
    "SIZE = 5\n",
    "queue = [\"화사\", \"솔라\", \"문별\", \"휘인\", None]\n",
    "front = -1\n",
    "rear = 3\n",
    "\n",
    "print(queue)\n",
    "enQueue(\"선미\")\n",
    "print(queue)\n",
    "enQueue(\"규현\")\n"
   ]
  },
  {
   "cell_type": "code",
   "execution_count": 13,
   "id": "723ab418",
   "metadata": {},
   "outputs": [
    {
     "data": {
      "text/plain": [
       "True"
      ]
     },
     "execution_count": 13,
     "metadata": {},
     "output_type": "execute_result"
    }
   ],
   "source": [
    "#Code07-05.py\n",
    "#isQueueEmpty()\n",
    "\n",
    "def isQueueEmpty():\n",
    "    global SIZE, queue, front, rear\n",
    "    if(front == rear):\n",
    "        return True\n",
    "    else:\n",
    "        return False\n",
    "\n",
    "SIZE = 5\n",
    "queue = [None for _ in range(SIZE)]\n",
    "front = -1\n",
    "rear = -1\n",
    "\n",
    "isQueueEmpty()"
   ]
  },
  {
   "cell_type": "code",
   "execution_count": 16,
   "id": "3c1154c0",
   "metadata": {},
   "outputs": [
    {
     "name": "stdout",
     "output_type": "stream",
     "text": [
      "['화사', '규현', '용준', None, None]\n",
      "[None, '규현', '용준', None, None]\n",
      "[None, None, '용준', None, None]\n",
      "[None, None, None, None, None]\n",
      "큐가 비었습니다\n"
     ]
    }
   ],
   "source": [
    "#Code07-06.py\n",
    "\n",
    "def isQueueEmpty():\n",
    "    global SIZE, queue, front, rear\n",
    "    if(front == rear):\n",
    "        return True\n",
    "    else:\n",
    "        return False\n",
    "    \n",
    "def deQueue():\n",
    "    global SIZE, front, rear, queue\n",
    "    if(isQueueEmpty()):\n",
    "        print(\"큐가 비었습니다\")\n",
    "        return None\n",
    "    front += 1\n",
    "    data = queue[front]\n",
    "    queue[front] = None\n",
    "    return data\n",
    "\n",
    "\n",
    "SIZE = 5\n",
    "queue = [\"화사\", \"규현\", \"용준\", None, None]\n",
    "front = -1\n",
    "rear = 2\n",
    "\n",
    "print(queue)\n",
    "deQueue()\n",
    "print(queue)\n",
    "deQueue()\n",
    "print(queue)\n",
    "deQueue()\n",
    "print(queue)\n",
    "deQueue()"
   ]
  },
  {
   "cell_type": "code",
   "execution_count": null,
   "id": "ec4c98a9",
   "metadata": {},
   "outputs": [
    {
     "name": "stdout",
     "output_type": "stream",
     "text": [
      "['화사', '규현', '용준', None, None]\n",
      "화사\n",
      "['화사', '규현', '용준', None, None]\n"
     ]
    }
   ],
   "source": [
    "#Code07-07.py  peek()\n",
    "def isQueueEmpty():\n",
    "    global SIZE, queue, front, rear\n",
    "    if(front == rear):\n",
    "        return True\n",
    "    else:\n",
    "        return False\n",
    "\n",
    "def peek():\n",
    "    global SIZE, queue, front, rear\n",
    "    if(isQueueEmpty()):\n",
    "        print(\"큐가 비었음\")\n",
    "        return None\n",
    "    data = queue[front+1]\n",
    "    return data\n",
    "\n",
    "SIZE = 5\n",
    "queue = [\"화사\", \"규현\", \"용준\", None, None]\n",
    "front = -1\n",
    "rear = 2\n",
    "\n",
    "print(queue)\n",
    "reData = peek()\n",
    "print(reData)\n",
    "print(queue) #큐가 그대로있음"
   ]
  },
  {
   "cell_type": "code",
   "execution_count": null,
   "id": "369ede8d",
   "metadata": {},
   "outputs": [],
   "source": [
    "# Queue 큐 통합 코드\n",
    "# Code07-08.py"
   ]
  },
  {
   "cell_type": "markdown",
   "id": "794be86a",
   "metadata": {},
   "source": [
    "---\n",
    "## 큐가 deQueue()를 해줬으면 이동을 해줘야할거아니야"
   ]
  },
  {
   "cell_type": "code",
   "execution_count": 20,
   "id": "efb90c14",
   "metadata": {},
   "outputs": [
    {
     "name": "stdout",
     "output_type": "stream",
     "text": [
      "2\n"
     ]
    }
   ],
   "source": [
    "#Code07-09.py\n",
    "def isQueueFull():\n",
    "    global SIZE, queue, front, rear\n",
    "    if(rear != SIZE-1):\n",
    "        return False\n",
    "    elif(rear == SIZE-1) and (front == -1):\n",
    "        return True\n",
    "    else:\n",
    "        for i in range(front+1, SIZE):\n",
    "            queue[i-1] = queue[i]\n",
    "            queue[i] = None\n",
    "        front -= 1\n",
    "        rear -= 1\n",
    "        return False\n",
    "    \n",
    "print(2%5)\n"
   ]
  },
  {
   "cell_type": "markdown",
   "id": "47664f88",
   "metadata": {},
   "source": [
    "## 원형 큐\n",
    "왜 선형 큐 말고 원형 큐를??\n",
    "\n",
    "선형 큐는 오버헤드 발생할 일이 있음\n",
    "\n",
    "요소를 삭제한 후 앞의 공간을 이용을 못해서 생기는 일"
   ]
  },
  {
   "cell_type": "code",
   "execution_count": null,
   "id": "3509fb59",
   "metadata": {},
   "outputs": [
    {
     "ename": "SyntaxError",
     "evalue": "expected ':' (2376655615.py, line 27)",
     "output_type": "error",
     "traceback": [
      "\u001b[0;36m  Cell \u001b[0;32mIn[23], line 27\u001b[0;36m\u001b[0m\n\u001b[0;31m    if(isQueueEmpty())\u001b[0m\n\u001b[0m                      ^\u001b[0m\n\u001b[0;31mSyntaxError\u001b[0m\u001b[0;31m:\u001b[0m expected ':'\n"
     ]
    }
   ],
   "source": [
    "# 원형 큐 구현\n",
    "#Code07-11.py\n",
    "def isQueueFull():\n",
    "    global SIZE, queue, front, rear\n",
    "    if((rear+1)%SIZE == front):\n",
    "        return True\n",
    "    else:\n",
    "        return False\n",
    "    \n",
    "def isQueueEmpty():\n",
    "    global SIZE, queue, front, rear\n",
    "    if(front == rear):\n",
    "        return True\n",
    "    else:\n",
    "        return False\n",
    "\n",
    "def enQueue(data):\n",
    "    global SIZE, queue, front, rear\n",
    "    if(isQueueFull()):\n",
    "        print(\"큐가 꽉 참\")\n",
    "        return\n",
    "    rear = (rear+1)%SIZE\n",
    "    queue[rear] = data\n",
    "\n",
    "def deQueue():\n",
    "    global SIZE, queue, front, rear\n",
    "    if(isQueueEmpty()):\n",
    "        print(\"큐가 비어있음\")\n",
    "        return None\n",
    "    front = (front+1)%SIZE\n",
    "    data = queue[front]\n",
    "    queue[front] = None\n",
    "    return data\n",
    "\n",
    "def peek():\n",
    "    global SIZE, queue, front, rear\n",
    "    if(isQueueEmpty()):\n",
    "        print(\"큐가 비어있음\")\n",
    "        return None\n",
    "    return queue[(front+1)%SIZE]"
   ]
  }
 ],
 "metadata": {
  "kernelspec": {
   "display_name": "base",
   "language": "python",
   "name": "python3"
  },
  "language_info": {
   "codemirror_mode": {
    "name": "ipython",
    "version": 3
   },
   "file_extension": ".py",
   "mimetype": "text/x-python",
   "name": "python",
   "nbconvert_exporter": "python",
   "pygments_lexer": "ipython3",
   "version": "3.11.7"
  }
 },
 "nbformat": 4,
 "nbformat_minor": 5
}
