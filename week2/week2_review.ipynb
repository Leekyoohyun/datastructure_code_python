{
 "cells": [
  {
   "cell_type": "code",
   "execution_count": null,
   "id": "c0f1c2c0",
   "metadata": {},
   "outputs": [],
   "source": [
    "#Code02-05.py\n",
    "array = []\n",
    "for i in range(0, 4):\n",
    "    array.append(0)\n",
    "sum = 0\n",
    "\n",
    "for i in range(0, 4):\n",
    "    array[i] = int(input(str(i+1)+\" 번째 숫자: \"))\n",
    "\n",
    "for i in range(0, 4):\n",
    "    sum = sum + array[i]\n",
    "\n",
    "print(sum)"
   ]
  },
  {
   "cell_type": "code",
   "execution_count": null,
   "id": "94a80e05",
   "metadata": {},
   "outputs": [],
   "source": [
    "# 리스트 값 맨 뒤\n",
    "array = [10, 20, 30, 40]\n",
    "print(\"맨 뒤: \", array[-1])\n",
    "\n",
    "#콜론 (:) 을 사용해서 범위 지정하기\n",
    "print(array[0:3]) #0번째부터 2번째까지\n",
    "print(array[1:3])\n",
    "print(array[0:]) #처음부터 끝까지\n",
    "\n",
    "print(array.index(10)) #값의 인덱스값 찾아주기\n",
    "array.insert(4, 50)\n",
    "print(array)\n",
    "\n"
   ]
  },
  {
   "cell_type": "code",
   "execution_count": null,
   "id": "922406bb",
   "metadata": {},
   "outputs": [],
   "source": [
    "#Code02-06.py\n",
    "myList = [30, 10, 20]\n",
    "\n",
    "print(myList.pop())\n",
    "print(myList) #끝 데이터 pop\n",
    "\n",
    "myList.append(20)\n",
    "print(myList)\n",
    "myList.sort()\n",
    "print(myList)\n",
    "myList.insert(2, 222)\n",
    "print(myList)\n",
    "myList.append(222)\n",
    "print(myList)\n",
    "print(myList.count(222)) #두개로 읽\n",
    "myList.remove(222) #왼쪽부터라 다 사라지지는 않는다\n",
    "print(myList)\n",
    "#index가 아니라 값으로 하네?"
   ]
  },
  {
   "cell_type": "code",
   "execution_count": null,
   "id": "d18dc4fe",
   "metadata": {},
   "outputs": [],
   "source": [
    "#Code02-07.py\n",
    "list1 = []\n",
    "list2 = []\n",
    "\n",
    "value = 1\n",
    "for i in range(0, 3):\n",
    "    for k in range(0, 4):\n",
    "        list1.append(value)\n",
    "        value += 1\n",
    "    list2.append(list1)\n",
    "    list1 = [] #초기화해줘야지\n",
    "\n",
    "for i in range(0, 3):\n",
    "    for k in range(0, 4):\n",
    "        print(\"%3d\" % list2[i][k], end = ' ')\n",
    "    print(\" \")"
   ]
  },
  {
   "cell_type": "code",
   "execution_count": null,
   "id": "aef21171",
   "metadata": {},
   "outputs": [],
   "source": [
    "#Self study\n",
    "list1 = []\n",
    "list2 = []\n",
    "\n",
    "value = 12\n",
    "for i in range(0, 4):\n",
    "    for j in range(0, 3):\n",
    "        list1.append(value)\n",
    "        value -= 1\n",
    "    list2.append(list1)\n",
    "    list1 = []\n",
    "\n",
    "for i in range(0, 4):\n",
    "    for j in range(0, 3):\n",
    "        print(\"%3d\" % list2[i][j], end = \" \")\n",
    "    print(\" \")\n",
    "\n",
    "sum = 0\n",
    "for i in range(0, 4):\n",
    "    for j in range(0, 3):\n",
    "        sum += list2[i][j]\n",
    "\n",
    "print(\"배열의 합계 ==> \", sum)"
   ]
  },
  {
   "cell_type": "markdown",
   "id": "a9ebbc7c",
   "metadata": {},
   "source": [
    "## ** 컴프리헨션(함축) **"
   ]
  },
  {
   "cell_type": "code",
   "execution_count": null,
   "id": "516201a7",
   "metadata": {},
   "outputs": [],
   "source": [
    "#값이 순차적인 리스트를 한 줄로 만드는 간단한 방법\n",
    "numList = []\n",
    "for num in range(1, 6):\n",
    "    numList.append(num)\n",
    "\n",
    "print(numList)\n",
    "\n",
    "#위 코드를 한줄로\n",
    "numList = [num for num in range(1, 6)]\n",
    "print(numList)\n",
    "\n",
    "#\"num을 뽑아와서 리스트로 만들어 → 어디에서? → range(1, 6)에서!\" 로 이해하자\n",
    "\n",
    "# 일반적인 for문\n",
    "result = []\n",
    "for x in range(5):\n",
    "    result.append(x * 2)\n",
    "\n",
    "#함축\n",
    "result = [x**2 for x in range(1, 6)]\n",
    "print(result)\n",
    "\n",
    "#짝수만 리스트에 담기\n",
    "#0부터 10까지 숫자중에 짝수만\n",
    "evenNum = [even for even in range(1, 11) if even % 2 == 0]\n",
    "print(evenNum)\n",
    "\n",
    "#2차원 리스트 함축 3*4 리스트\n",
    "twoDimList = [[0 for _ in range(4)] for _ in range(3)]\n",
    "print(twoDimList)"
   ]
  },
  {
   "cell_type": "markdown",
   "id": "8add0f27",
   "metadata": {},
   "source": [
    "## 문자열 & 문자열 검색"
   ]
  },
  {
   "cell_type": "code",
   "execution_count": null,
   "id": "9cfaa65d",
   "metadata": {},
   "outputs": [],
   "source": [
    "s = \"파이썬 공부는 즐겁습니다. 물론 모든 공부가 다 재미있지는 않죠. ^^\"\n",
    "s.count(\"공부\")\n",
    "print(s.find(\"공부\"), s.rfind(\"공부\"), s.find(\"공부\", 5), s.find(\"없다\"))"
   ]
  },
  {
   "cell_type": "markdown",
   "id": "d4614e00",
   "metadata": {},
   "source": [
    "## 문자열 분리 & 결합"
   ]
  },
  {
   "cell_type": "code",
   "execution_count": null,
   "id": "b811fba0",
   "metadata": {},
   "outputs": [],
   "source": [
    "ss = \"Python을 열심히 공부 중\"\n",
    "ss.split() #띄워쓰기 기준으로 단어 별 분리\n",
    "ss = \"하나:둘:셋\"\n",
    "ss.split(\":\") # : 기준으로 분리\n",
    "ss = \"하나\\n둘\\n셋\"\n",
    "ss.splitlines()\n",
    "ss = \"%\"\n",
    "ss.join(\"파이썬\")"
   ]
  },
  {
   "cell_type": "markdown",
   "id": "7e56dd04",
   "metadata": {},
   "source": [
    "## 함수 이름 대입\n",
    "map(함수이름, 리스트이름)\n",
    "- 위 함수는 리스트 문자열 하나하나를 함수 이름에 대입"
   ]
  },
  {
   "cell_type": "code",
   "execution_count": null,
   "id": "3309345a",
   "metadata": {},
   "outputs": [],
   "source": [
    "#문자열로 구성된 리스트를 숫자로 변환\n",
    "before = ['2025', '12', '31']\n",
    "print(type(before[0]))\n",
    "before = list(map(int, before))\n",
    "print(type(before[0]))"
   ]
  },
  {
   "cell_type": "markdown",
   "id": "ad78dd28",
   "metadata": {},
   "source": [
    "## 튜플 (tuple) : 불변형 데이터 형식\n",
    "- 리스트와 사용법 비슷한데 다름\n",
    "- 리스트는 []로 생성 -> 튜플은 ()로 생성\n",
    "- 튜플은 값 수정 불가, 읽기만 가능, 읽기 전용 자료를 저장"
   ]
  },
  {
   "cell_type": "code",
   "execution_count": null,
   "id": "b2a8b621",
   "metadata": {},
   "outputs": [],
   "source": [
    "#튜플 생성, 삭제\n",
    "tuple1 = (10, 20, 30); tuple1\n",
    "tuple2 = 10, 20, 30; tuple2\n",
    "\n",
    "print(tuple1)\n",
    "print(tuple2)\n",
    "\n",
    "#항목이 하나인 튜플은 꼭 뒤에 쉼표를 붙여야해\n",
    "tuple3 = 10,; tuple3\n",
    "print(tuple3)\n",
    "\n",
    "del(tuple1)\n",
    "print(tuple1) #위에서 삭제해서 오류남"
   ]
  },
  {
   "cell_type": "code",
   "execution_count": null,
   "id": "01ce5de7",
   "metadata": {},
   "outputs": [],
   "source": [
    "#튜플 리스트 변환\n",
    "myTuple = (10, 20, 30)\n",
    "myList = list(myTuple)\n",
    "myList.append(40)\n",
    "myTuple = tuple(myList)\n",
    "myTuple.append(50) #튜플이라 추가 불가능!\n",
    "print(myTuple)"
   ]
  },
  {
   "cell_type": "code",
   "execution_count": null,
   "id": "a8a1a5b8",
   "metadata": {},
   "outputs": [],
   "source": [
    "#실습1 로또 생성\n",
    "#1~45 숫자 중에서 6개를 고르는 로또 번호를 자동으로 만들어 주는 프로그램을 작성하자.\n",
    "import random\n",
    "\n",
    "# 1~45까지 숫자 리스트 생성\n",
    "lottoNum = [num for num in range(1, 46)]\n",
    "print(\"로또 번호 생성을 시작합니다\")\n",
    "\n",
    "# 사용자에게 몇 번 뽑을지 입력받기\n",
    "count = int(input(\"몇 번을 뽑을까요? \"))\n",
    "\n",
    "# count만큼 반복해서 로또 번호 생성\n",
    "for i in range(count):\n",
    "    # 6개의 번호를 중복 없이 랜덤으로 뽑기\n",
    "    picked = random.sample(lottoNum, 6)\n",
    "    picked.sort()\n",
    "    print(f\"자동번호 -->\", picked)\n"
   ]
  },
  {
   "cell_type": "markdown",
   "id": "c8124710",
   "metadata": {},
   "source": [
    "## 실습문제"
   ]
  },
  {
   "cell_type": "code",
   "execution_count": null,
   "id": "31a56bd7",
   "metadata": {},
   "outputs": [],
   "source": [
    "# 문제1: 리스트 함축을 이용한 필터링\n",
    "list1 = [num for num in range(1, 101) if num%3 ==0 or num%5==0]\n",
    "print(list1)"
   ]
  },
  {
   "cell_type": "code",
   "execution_count": null,
   "id": "3fef5043",
   "metadata": {},
   "outputs": [],
   "source": [
    "# 문제2: 리스트 함축을 이용한 2차원 리스트 변환\n",
    "matrix = [[1,2,3], [4,5,6], [7,8,9]]\n",
    "#위 매트릭스 각 행의 짝수만 추출해서 새로운 2차원 리스트를 만드세요\n",
    "new_matrix = [[num for num in row if num % 2 == 0] for row in matrix]\n",
    "print(new_matrix)"
   ]
  },
  {
   "cell_type": "code",
   "execution_count": null,
   "id": "5b6b79aa",
   "metadata": {},
   "outputs": [],
   "source": [
    "#위 코드 이해하기 편하게\n",
    "matrix = [[1,2,3], [4,5,6], [7,8,9]]\n",
    "\n",
    "for row in matrix:\n",
    "    print(row)"
   ]
  },
  {
   "cell_type": "code",
   "execution_count": 1,
   "id": "11ef51f7",
   "metadata": {},
   "outputs": [
    {
     "name": "stdout",
     "output_type": "stream",
     "text": [
      "(1, 2, 3, 4)\n"
     ]
    }
   ],
   "source": [
    "# 문제3: 튜플에 정수 추가하기\n",
    "original_tuple = (1,2,3)\n",
    "tupleToList = list(original_tuple)\n",
    "tupleToList.append(4)\n",
    "new_tuple = tuple(tupleToList)\n",
    "print(new_tuple)"
   ]
  }
 ],
 "metadata": {
  "kernelspec": {
   "display_name": "base",
   "language": "python",
   "name": "python3"
  },
  "language_info": {
   "codemirror_mode": {
    "name": "ipython",
    "version": 3
   },
   "file_extension": ".py",
   "mimetype": "text/x-python",
   "name": "python",
   "nbconvert_exporter": "python",
   "pygments_lexer": "ipython3",
   "version": "3.11.7"
  }
 },
 "nbformat": 4,
 "nbformat_minor": 5
}
