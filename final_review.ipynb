{
 "cells": [
  {
   "cell_type": "code",
   "execution_count": null,
   "id": "dd57d9ef",
   "metadata": {},
   "outputs": [
    {
     "name": "stdout",
     "output_type": "stream",
     "text": [
      "파파이썬최고이파이썬최고썬파이썬최고이파이썬최고최파이썬최고고파이썬최고야\n",
      "2\n"
     ]
    }
   ],
   "source": [
    "ss = '파이썬최고'\n",
    "ss2 = '파이썬이최고야'\n",
    "print(ss.join(ss2))\n",
    "print(ss2.count('이'))\n"
   ]
  },
  {
   "cell_type": "code",
   "execution_count": null,
   "id": "22dacf7f",
   "metadata": {},
   "outputs": [],
   "source": [
    "def add_data(friend):\n",
    "    katok.append(None)\n",
    "    kLen = len(katok)\n",
    "    katok[kLen-1] = friend\n",
    "\n",
    "def insert_data(position, friend):\n",
    "\n",
    "    katok.append(None)\n",
    "    kLen = len(katok)\n",
    "    for i in range(kLen-1, position, -1):\n",
    "        katok[i] = katok[i-1]\n",
    "        katok[i-1] = None\n",
    "    katok[position] = friend\n",
    "\n",
    "\n",
    "def del_data(position):\n",
    "    katok[position] = None\n",
    "    kLen = len(katok)\n",
    "\n",
    "    for i in range(position+1, kLen):\n",
    "        katok[i-1] = katok[i]\n",
    "        katok[i] = None\n",
    "    del(katok[kLen-1])\n",
    "\n",
    "\n",
    "\n",
    "    for _ in range(len(katok)-position)\n"
   ]
  }
 ],
 "metadata": {
  "kernelspec": {
   "display_name": "base",
   "language": "python",
   "name": "python3"
  },
  "language_info": {
   "codemirror_mode": {
    "name": "ipython",
    "version": 3
   },
   "file_extension": ".py",
   "mimetype": "text/x-python",
   "name": "python",
   "nbconvert_exporter": "python",
   "pygments_lexer": "ipython3",
   "version": "3.11.7"
  }
 },
 "nbformat": 4,
 "nbformat_minor": 5
}
