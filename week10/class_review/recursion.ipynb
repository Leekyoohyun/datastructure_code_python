{
 "cells": [
  {
   "cell_type": "markdown",
   "id": "a1e12330",
   "metadata": {},
   "source": [
    "## 재귀 호출"
   ]
  },
  {
   "cell_type": "markdown",
   "id": "0ee7f8e7",
   "metadata": {},
   "source": [
    "### 재귀 알고리즘\n",
    "자기 자신을 다시 호출하는 것"
   ]
  },
  {
   "cell_type": "code",
   "execution_count": null,
   "id": "56c09f49",
   "metadata": {},
   "outputs": [],
   "source": [
    "#10-01.py 재귀 호출 함수 기본\n",
    "def openBox():\n",
    "    print(\"종이 상자를 엽니다\")\n",
    "    openBox()\n",
    "#무한 반복"
   ]
  },
  {
   "cell_type": "code",
   "execution_count": 2,
   "id": "77c28016",
   "metadata": {},
   "outputs": [
    {
     "name": "stdout",
     "output_type": "stream",
     "text": [
      "종이 상자를 엽니다\n",
      "종이 상자를 엽니다\n",
      "종이 상자를 엽니다\n",
      "종이 상자를 엽니다\n",
      "종이 상자를 엽니다\n",
      "종이 상자를 엽니다\n",
      "종이 상자를 엽니다\n",
      "종이 상자를 엽니다\n",
      "종이 상자를 엽니다\n",
      "종이 상자를 엽니다\n",
      "반지를 넣고 반환\n",
      "종이 상자를 닫음\n",
      "종이 상자를 닫음\n",
      "종이 상자를 닫음\n",
      "종이 상자를 닫음\n",
      "종이 상자를 닫음\n",
      "종이 상자를 닫음\n",
      "종이 상자를 닫음\n",
      "종이 상자를 닫음\n",
      "종이 상자를 닫음\n"
     ]
    }
   ],
   "source": [
    "#10-02.py 재귀 호출함수 기본(반환 조건 추가)\n",
    "def openBox():\n",
    "    global count\n",
    "    print(\"종이 상자를 엽니다\")\n",
    "    count -= 1\n",
    "    if count == 0:\n",
    "        print(\"반지를 넣고 반환\")\n",
    "        return\n",
    "    openBox()\n",
    "    print(\"종이 상자를 닫음\")\n",
    "\n",
    "count = 10\n",
    "openBox()"
   ]
  },
  {
   "cell_type": "code",
   "execution_count": 3,
   "id": "cf1c9168",
   "metadata": {},
   "outputs": [
    {
     "name": "stdout",
     "output_type": "stream",
     "text": [
      "55\n"
     ]
    }
   ],
   "source": [
    "# 1부터 10까지 합계\n",
    "sumValue = 0\n",
    "for n in range(10, 0, -1):\n",
    "    sumValue += n\n",
    "\n",
    "print(sumValue)"
   ]
  },
  {
   "cell_type": "code",
   "execution_count": 4,
   "id": "4180c2d8",
   "metadata": {},
   "outputs": [
    {
     "name": "stdout",
     "output_type": "stream",
     "text": [
      "55\n"
     ]
    }
   ],
   "source": [
    "#재귀함수로 구현 10-03.py\n",
    "def addNumber(num):\n",
    "    if num <= 1:\n",
    "        return 1\n",
    "    return num+addNumber(num-1)\n",
    "\n",
    "print(addNumber(10))"
   ]
  },
  {
   "cell_type": "code",
   "execution_count": 5,
   "id": "73e8c828",
   "metadata": {},
   "outputs": [
    {
     "name": "stdout",
     "output_type": "stream",
     "text": [
      "5 * 4! 호출\n",
      "4 * 3! 호출\n",
      "3 * 2! 호출\n",
      "2 * 1! 호출\n",
      "1반환\n",
      "2 * 1!(=1) 반환\n",
      "3 * 2!(=2) 반환\n",
      "4 * 3!(=6) 반환\n",
      "5 * 4!(=24) 반환\n",
      "\n",
      "5!= 120\n"
     ]
    }
   ],
   "source": [
    "#10-04.py 팩토리얼\n",
    "def factorial(num):\n",
    "    if num <= 1:\n",
    "        print(\"1반환\")\n",
    "        return 1\n",
    "    print(\"%d * %d! 호출\"%(num, num-1))\n",
    "    retVal = factorial(num-1)\n",
    "\n",
    "    print(\"%d * %d!(=%d) 반환\"%(num, num-1, retVal))\n",
    "    return num * retVal\n",
    "\n",
    "print(\"\\n5!=\", factorial(5))"
   ]
  },
  {
   "cell_type": "code",
   "execution_count": 6,
   "id": "f60714d0",
   "metadata": {},
   "outputs": [
    {
     "name": "stdout",
     "output_type": "stream",
     "text": [
      "10\n",
      "9\n",
      "8\n",
      "7\n",
      "6\n",
      "5\n",
      "4\n",
      "3\n",
      "2\n",
      "1\n",
      "발사\n"
     ]
    }
   ],
   "source": [
    "#10-05.py 카운트다운을 재귀호출로\n",
    "def countDown(n):\n",
    "    if n == 0:\n",
    "        print(\"발사\")\n",
    "    else:\n",
    "        print(n)\n",
    "        countDown(n-1)\n",
    "\n",
    "\n",
    "countDown(10)"
   ]
  },
  {
   "cell_type": "code",
   "execution_count": 11,
   "id": "c6b45430",
   "metadata": {},
   "outputs": [
    {
     "name": "stdout",
     "output_type": "stream",
     "text": [
      "*\n",
      "**\n",
      "***\n",
      "****\n",
      "*****\n"
     ]
    }
   ],
   "source": [
    "#10-06.py\n",
    "def printStar(starNumber):\n",
    "    if starNumber > 0:\n",
    "        printStar(starNumber-1)\n",
    "        print(\"*\"*starNumber)\n",
    "\n",
    "printStar(5)"
   ]
  },
  {
   "cell_type": "code",
   "execution_count": 13,
   "id": "aef238fc",
   "metadata": {},
   "outputs": [
    {
     "name": "stdout",
     "output_type": "stream",
     "text": [
      "## 2단 ##\n",
      "2 * 1 = 2\n",
      "2 * 2 = 4\n",
      "2 * 3 = 6\n",
      "2 * 4 = 8\n",
      "2 * 5 = 10\n",
      "2 * 6 = 12\n",
      "2 * 7 = 14\n",
      "2 * 8 = 16\n",
      "2 * 9 = 18\n",
      "## 3단 ##\n",
      "3 * 1 = 3\n",
      "3 * 2 = 6\n",
      "3 * 3 = 9\n",
      "3 * 4 = 12\n",
      "3 * 5 = 15\n",
      "3 * 6 = 18\n",
      "3 * 7 = 21\n",
      "3 * 8 = 24\n",
      "3 * 9 = 27\n",
      "## 4단 ##\n",
      "4 * 1 = 4\n",
      "4 * 2 = 8\n",
      "4 * 3 = 12\n",
      "4 * 4 = 16\n",
      "4 * 5 = 20\n",
      "4 * 6 = 24\n",
      "4 * 7 = 28\n",
      "4 * 8 = 32\n",
      "4 * 9 = 36\n",
      "## 5단 ##\n",
      "5 * 1 = 5\n",
      "5 * 2 = 10\n",
      "5 * 3 = 15\n",
      "5 * 4 = 20\n",
      "5 * 5 = 25\n",
      "5 * 6 = 30\n",
      "5 * 7 = 35\n",
      "5 * 8 = 40\n",
      "5 * 9 = 45\n",
      "## 6단 ##\n",
      "6 * 1 = 6\n",
      "6 * 2 = 12\n",
      "6 * 3 = 18\n",
      "6 * 4 = 24\n",
      "6 * 5 = 30\n",
      "6 * 6 = 36\n",
      "6 * 7 = 42\n",
      "6 * 8 = 48\n",
      "6 * 9 = 54\n",
      "## 7단 ##\n",
      "7 * 1 = 7\n",
      "7 * 2 = 14\n",
      "7 * 3 = 21\n",
      "7 * 4 = 28\n",
      "7 * 5 = 35\n",
      "7 * 6 = 42\n",
      "7 * 7 = 49\n",
      "7 * 8 = 56\n",
      "7 * 9 = 63\n",
      "## 8단 ##\n",
      "8 * 1 = 8\n",
      "8 * 2 = 16\n",
      "8 * 3 = 24\n",
      "8 * 4 = 32\n",
      "8 * 5 = 40\n",
      "8 * 6 = 48\n",
      "8 * 7 = 56\n",
      "8 * 8 = 64\n",
      "8 * 9 = 72\n",
      "## 9단 ##\n",
      "9 * 1 = 9\n",
      "9 * 2 = 18\n",
      "9 * 3 = 27\n",
      "9 * 4 = 36\n",
      "9 * 5 = 45\n",
      "9 * 6 = 54\n",
      "9 * 7 = 63\n",
      "9 * 8 = 72\n",
      "9 * 9 = 81\n"
     ]
    }
   ],
   "source": [
    "#10-07.py 구구단 출력\n",
    "def gugu(dan, num):\n",
    "    print(\"%d * %d = %d\" %(dan, num, dan*num))\n",
    "    if num < 9:\n",
    "        gugu(dan, num+1)\n",
    "\n",
    "for dan in range(2, 10):\n",
    "    print(\"## %d단 ##\"%dan)\n",
    "    gugu(dan, 1)"
   ]
  },
  {
   "cell_type": "code",
   "execution_count": 14,
   "id": "57225bd3",
   "metadata": {},
   "outputs": [
    {
     "name": "stdout",
     "output_type": "stream",
     "text": [
      "2^4\n",
      " 2*2^(4-1)\n",
      "  2*2^(3-1)\n",
      "   2*2^(2-1)\n",
      "    2*2^(1-1)\n",
      "답 :  16\n"
     ]
    }
   ],
   "source": [
    "#10-08.py N제곱 계산 재귀로\n",
    "tab = ''\n",
    "def pow(x, n):\n",
    "    global tab\n",
    "    tab += ' '\n",
    "    if n == 0:\n",
    "        return 1\n",
    "    print(tab+\"%d*%d^(%d-%d)\"%(x,x,n,1))\n",
    "    return x*pow(x, n-1)\n",
    "\n",
    "print('2^4')\n",
    "print(\"답 : \", pow(2,4))"
   ]
  },
  {
   "cell_type": "code",
   "execution_count": 15,
   "id": "71a8d26a",
   "metadata": {},
   "outputs": [
    {
     "name": "stdout",
     "output_type": "stream",
     "text": [
      "[133, 88, 121, 105, 195, 152, 7, 203, 238, 40, 143, 185, 35, 136]\n",
      "배열 합계 -->  1781\n"
     ]
    }
   ],
   "source": [
    "#10-09.py 배열의 합계를 재귀로\n",
    "import random\n",
    "\n",
    "def arySum(arr, n):\n",
    "    if n <= 0:\n",
    "        return arr[0]\n",
    "    return arySum(arr, n-1)+arr[n]\n",
    "\n",
    "ary = [random.randint(0,255)for _ in range(random.randint(10,20))]\n",
    "\n",
    "print(ary)\n",
    "print(\"배열 합계 --> \", arySum(ary, len(ary)-1))"
   ]
  },
  {
   "cell_type": "code",
   "execution_count": 16,
   "id": "d82bbb3b",
   "metadata": {},
   "outputs": [
    {
     "name": "stdout",
     "output_type": "stream",
     "text": [
      "reaver-->X\n",
      "kayak-->O\n",
      "Borrow or rob-->O\n",
      "주유소의 소유주-->O\n",
      "야 너 이번 주 주번이 너야-->O\n",
      "살금 살금-->X\n"
     ]
    }
   ],
   "source": [
    "# 팰린드롬\n",
    "def palindrome(pStr):\n",
    "    if len(pStr) <= 1:\n",
    "        return True\n",
    "    \n",
    "    if pStr[0] != pStr[-1]:\n",
    "        return False\n",
    "    \n",
    "    return palindrome(pStr[1:-1])\n",
    "\n",
    "\n",
    "strAry = [\"reaver\", \"kayak\", \"Borrow or rob\", \"주유소의 소유주\", \"야 너 이번 주 주번이 너야\", \"살금 살금\"]\n",
    "\n",
    "for testStr in strAry:\n",
    "    print(testStr, end = '-->')\n",
    "    testStr = testStr.lower().replace(' ','')\n",
    "    if palindrome(testStr):\n",
    "        print('O')\n",
    "    else:\n",
    "        print('X')"
   ]
  }
 ],
 "metadata": {
  "kernelspec": {
   "display_name": "base",
   "language": "python",
   "name": "python3"
  },
  "language_info": {
   "codemirror_mode": {
    "name": "ipython",
    "version": 3
   },
   "file_extension": ".py",
   "mimetype": "text/x-python",
   "name": "python",
   "nbconvert_exporter": "python",
   "pygments_lexer": "ipython3",
   "version": "3.11.7"
  }
 },
 "nbformat": 4,
 "nbformat_minor": 5
}
